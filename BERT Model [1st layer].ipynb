{
  "cells": [
    {
      "cell_type": "markdown",
      "metadata": {
        "id": "view-in-github",
        "colab_type": "text"
      },
      "source": [
        "<a href=\"https://colab.research.google.com/github/jasminediaconu/CSE3000-ResearchProject/blob/main/BERT%20Model%20%5B1st%20layer%5D.ipynb\" target=\"_parent\"><img src=\"https://colab.research.google.com/assets/colab-badge.svg\" alt=\"Open In Colab\"/></a>"
      ]
    },
    {
      "cell_type": "code",
      "execution_count": 204,
      "metadata": {
        "colab": {
          "base_uri": "https://localhost:8080/"
        },
        "id": "vCdCME9u4bT8",
        "outputId": "85a14d0c-8a4c-41bc-c255-8c31cca51e30"
      },
      "outputs": [
        {
          "output_type": "stream",
          "name": "stdout",
          "text": [
            "Looking in indexes: https://pypi.org/simple, https://us-python.pkg.dev/colab-wheels/public/simple/\n",
            "Requirement already satisfied: transformers in /usr/local/lib/python3.7/dist-packages (4.19.3)\n",
            "Requirement already satisfied: numpy>=1.17 in /usr/local/lib/python3.7/dist-packages (from transformers) (1.21.6)\n",
            "Requirement already satisfied: pyyaml>=5.1 in /usr/local/lib/python3.7/dist-packages (from transformers) (6.0)\n",
            "Requirement already satisfied: tqdm>=4.27 in /usr/local/lib/python3.7/dist-packages (from transformers) (4.64.0)\n",
            "Requirement already satisfied: importlib-metadata in /usr/local/lib/python3.7/dist-packages (from transformers) (4.11.4)\n",
            "Requirement already satisfied: filelock in /usr/local/lib/python3.7/dist-packages (from transformers) (3.7.0)\n",
            "Requirement already satisfied: requests in /usr/local/lib/python3.7/dist-packages (from transformers) (2.23.0)\n",
            "Requirement already satisfied: packaging>=20.0 in /usr/local/lib/python3.7/dist-packages (from transformers) (21.3)\n",
            "Requirement already satisfied: huggingface-hub<1.0,>=0.1.0 in /usr/local/lib/python3.7/dist-packages (from transformers) (0.7.0)\n",
            "Requirement already satisfied: tokenizers!=0.11.3,<0.13,>=0.11.1 in /usr/local/lib/python3.7/dist-packages (from transformers) (0.12.1)\n",
            "Requirement already satisfied: regex!=2019.12.17 in /usr/local/lib/python3.7/dist-packages (from transformers) (2019.12.20)\n",
            "Requirement already satisfied: typing-extensions>=3.7.4.3 in /usr/local/lib/python3.7/dist-packages (from huggingface-hub<1.0,>=0.1.0->transformers) (4.2.0)\n",
            "Requirement already satisfied: pyparsing!=3.0.5,>=2.0.2 in /usr/local/lib/python3.7/dist-packages (from packaging>=20.0->transformers) (3.0.9)\n",
            "Requirement already satisfied: zipp>=0.5 in /usr/local/lib/python3.7/dist-packages (from importlib-metadata->transformers) (3.8.0)\n",
            "Requirement already satisfied: chardet<4,>=3.0.2 in /usr/local/lib/python3.7/dist-packages (from requests->transformers) (3.0.4)\n",
            "Requirement already satisfied: certifi>=2017.4.17 in /usr/local/lib/python3.7/dist-packages (from requests->transformers) (2022.5.18.1)\n",
            "Requirement already satisfied: urllib3!=1.25.0,!=1.25.1,<1.26,>=1.21.1 in /usr/local/lib/python3.7/dist-packages (from requests->transformers) (1.24.3)\n",
            "Requirement already satisfied: idna<3,>=2.5 in /usr/local/lib/python3.7/dist-packages (from requests->transformers) (2.10)\n"
          ]
        }
      ],
      "source": [
        "!pip install transformers"
      ]
    },
    {
      "cell_type": "code",
      "execution_count": 205,
      "metadata": {
        "id": "1E6rvnl03_Dn"
      },
      "outputs": [],
      "source": [
        "import pandas as pd\n",
        "import numpy as np\n",
        "import random\n",
        "import os\n",
        "import sys\n",
        "import numpy as np\n",
        "import tensorflow as tf\n",
        "from transformers import logging\n",
        "\n",
        "# setting up seed\n",
        "seed = 123\n",
        "\n",
        "os.environ['PYTHONHASHSEED']=str(seed)\n",
        "random.seed(seed)\n",
        "np.random.seed(seed)\n",
        "tf.random.set_seed(seed)\n",
        "\n",
        "logging.set_verbosity_error()\n",
        "\n",
        "BATCH_SIZE = 32 # batch size used on the train and validation set\n",
        "EVAL_BATCH_SIZE = 8 # batch size used on the test set\n",
        "LEARNING_RATE = 2e-5 # the learning rate of the model optimizer\n",
        "NUM_TRAIN_EPOCHS = 5 # number of iterations for the model training\n",
        "MAX_SEQ_LENGTH = 128 # used to cut/pad the text into tokens\n",
        "\n",
        "# Loading the taxonomy\n",
        "taxonomy = pd.read_csv('taxonomy.csv')\n",
        "\n",
        "queries, labels = taxonomy['query'].to_numpy(), taxonomy['label'].to_numpy()"
      ]
    },
    {
      "cell_type": "code",
      "execution_count": 206,
      "metadata": {
        "id": "cjrfrhIj40rz"
      },
      "outputs": [],
      "source": [
        "from transformers import BertTokenizer\n",
        "\n",
        "tokenizer = BertTokenizer.from_pretrained('bert-base-uncased')\n",
        "\n",
        "def tokenize(sentence):\n",
        "    tokens = tokenizer.encode_plus(sentence, max_length=MAX_SEQ_LENGTH,\n",
        "                                   truncation=True, padding='max_length',\n",
        "                                   add_special_tokens=True, return_attention_mask=True,\n",
        "                                   return_token_type_ids=False, return_tensors='tf')\n",
        "    return tokens['input_ids'], tokens['attention_mask']\n",
        "\n",
        "# initialize two arrays for input tensors\n",
        "Xids = np.zeros((len(taxonomy), MAX_SEQ_LENGTH))\n",
        "Xmask = np.zeros((len(taxonomy), MAX_SEQ_LENGTH))\n",
        "\n",
        "for i, sentence in enumerate(taxonomy['query']):\n",
        "    Xids[i, :], Xmask[i, :] = tokenize(sentence)"
      ]
    },
    {
      "cell_type": "code",
      "execution_count": 207,
      "metadata": {
        "id": "SIak4Szw59Xk"
      },
      "outputs": [],
      "source": [
        "from sklearn.preprocessing import LabelEncoder\n",
        "\n",
        "# Encoding the labels to binary values\n",
        "bin_encoder=LabelEncoder()\n",
        "taxonomy.label = bin_encoder.fit_transform(taxonomy.label)"
      ]
    },
    {
      "cell_type": "code",
      "execution_count": 208,
      "metadata": {
        "id": "l0wYJ0gu6CHv"
      },
      "outputs": [],
      "source": [
        "label_values = taxonomy['label'].values  # take label column in the dataframe as array\n",
        "labels = np.zeros((label_values.size, label_values.max()+1))  # initialize empty (all zero) label array\n",
        "labels[np.arange(label_values.size), label_values] = 1  # add ones in indices where we have a value"
      ]
    },
    {
      "cell_type": "code",
      "execution_count": 209,
      "metadata": {
        "id": "5ftpKWzb7k43"
      },
      "outputs": [],
      "source": [
        "import tensorflow as tf\n",
        "\n",
        "# load arrays into tensorflow dataset\n",
        "dataset = tf.data.Dataset.from_tensor_slices((Xids, Xmask, labels))\n",
        "\n",
        "# create a mapping function that we use to restructure our dataset\n",
        "def map_func(input_ids, masks, labels):\n",
        "    return {'input_ids': input_ids, 'attention_mask': masks}, labels\n",
        "\n",
        "# using map method to apply map_func to dataset\n",
        "dataset = dataset.map(map_func)\n",
        "\n",
        "# shuffle data and batch it\n",
        "dataset = dataset.shuffle(500).batch(BATCH_SIZE)"
      ]
    },
    {
      "cell_type": "code",
      "execution_count": 210,
      "metadata": {
        "id": "EDPUFOW37qP3"
      },
      "outputs": [],
      "source": [
        "# get the length of the batched dataset\n",
        "DS_LEN = len([0 for batch in dataset])\n",
        "\n",
        "train_size = int(0.7 * DS_LEN)\n",
        "val_size = int(0.1 * DS_LEN)\n",
        "test_size = int(0.2 * DS_LEN)\n",
        "\n",
        "train = dataset.take(train_size)\n",
        "test = dataset.skip(train_size)\n",
        "val = test.skip(test_size)\n",
        "test = test.take(test_size)\n",
        "\n",
        "del dataset  # delete dataset to free up disk-space"
      ]
    },
    {
      "cell_type": "code",
      "execution_count": 211,
      "metadata": {
        "id": "HzKgQhtN7tZj"
      },
      "outputs": [],
      "source": [
        "import matplotlib.pyplot as plt\n",
        "\n",
        "# Helper function for merging new history objects with older ones\n",
        "def append_history(losses, val_losses, accuracy, val_accuracy, history):\n",
        "    losses = losses + history.history[\"loss\"]\n",
        "    val_losses = val_losses + history.history[\"val_loss\"]\n",
        "    accuracy = accuracy + history.history[\"binary_accuracy\"]\n",
        "    val_accuracy = val_accuracy + history.history[\"val_binary_accuracy\"]\n",
        "    return losses, val_losses, accuracy, val_accuracy\n",
        "\n",
        "\n",
        "# Plotter function\n",
        "def plot_history(losses, val_losses, accuracies, val_accuracies):\n",
        "    plt.plot(losses)\n",
        "    plt.plot(val_losses)\n",
        "    plt.legend([\"train_loss\", \"val_loss\"])\n",
        "    plt.xlabel(\"Epochs\")\n",
        "    plt.ylabel(\"Loss\")\n",
        "    plt.show()\n",
        "\n",
        "    plt.plot(accuracies)\n",
        "    plt.plot(val_accuracies)\n",
        "    plt.legend([\"train_accuracy\", \"val_accuracy\"])\n",
        "    plt.xlabel(\"Epochs\")\n",
        "    plt.ylabel(\"Accuracy\")\n",
        "    plt.show()"
      ]
    },
    {
      "cell_type": "code",
      "execution_count": 212,
      "metadata": {
        "id": "0SBV3DTq7x6r"
      },
      "outputs": [],
      "source": [
        "from transformers import TFBertModel\n",
        "\n",
        "def create_model():\n",
        "    # initialize cased BERT model\n",
        "    bert = TFBertModel.from_pretrained('bert-base-uncased')\n",
        "\n",
        "    input_ids = tf.keras.layers.Input(shape=(MAX_SEQ_LENGTH,), name='input_ids', dtype='int32')\n",
        "    mask = tf.keras.layers.Input(shape=(MAX_SEQ_LENGTH,), name='attention_mask', dtype='int32')\n",
        "\n",
        "    # we consume the last_hidden_state tensor from bert (discarding pooled_outputs)\n",
        "    embeddings = bert(input_ids, attention_mask=mask)[0]\n",
        "\n",
        "    X = tf.keras.layers.LSTM(64)(embeddings)\n",
        "    X = tf.keras.layers.BatchNormalization()(X)\n",
        "    X = tf.keras.layers.Dense(64, activation='relu')(X)\n",
        "    X = tf.keras.layers.Dropout(0.1)(X)\n",
        "    y = tf.keras.layers.Dense(2, activation='softmax', name='outputs')(X)\n",
        "\n",
        "    # define input and output layers of our model\n",
        "    model = tf.keras.Model(inputs=[input_ids, mask], outputs=y)\n",
        "\n",
        "    # freeze the BERT layer - otherwise we will be training 100M+ parameters...\n",
        "    model.layers[2].trainable = False\n",
        "\n",
        "    return model"
      ]
    },
    {
      "cell_type": "code",
      "execution_count": 213,
      "metadata": {
        "id": "-H4yjbC372k_"
      },
      "outputs": [],
      "source": [
        "def train_full_model(full_train_dataset, val_dataset, test_dataset):\n",
        "    model = create_model()\n",
        "    \n",
        "    model.compile(\n",
        "        optimizer=\"adam\", \n",
        "        loss=\"binary_crossentropy\",\n",
        "        metrics=[            \n",
        "            tf.keras.metrics.BinaryAccuracy(),\n",
        "            tf.keras.metrics.FalseNegatives(),\n",
        "            tf.keras.metrics.FalsePositives()\n",
        "        ],\n",
        "    )\n",
        "\n",
        "    early_stopping = tf.keras.callbacks.EarlyStopping(patience=4, verbose=1)\n",
        "    model_checkpoint = tf.keras.callbacks.ModelCheckpoint(\n",
        "                \"FullModelCheckpoint.h5\", verbose=1, save_best_only=True)\n",
        "    history = model.fit(full_train_dataset, validation_data=val_dataset, epochs=5,\n",
        "        callbacks=[early_stopping, model_checkpoint])\n",
        "    \n",
        "    # Plot history\n",
        "    plot_history(\n",
        "        history.history[\"loss\"],\n",
        "        history.history[\"val_loss\"],\n",
        "        history.history[\"binary_accuracy\"],\n",
        "        history.history[\"val_binary_accuracy\"],\n",
        "    )\n",
        "\n",
        "    # Loading the best checkpoint\n",
        "    model = tf.keras.models.load_model(\"FullModelCheckpoint.h5\", custom_objects={\"TFBertModel\": TFBertModel})\n",
        "\n",
        "    print(\"-\" * 100)\n",
        "    print(\n",
        "        \"Test set evaluation: \",\n",
        "        model.evaluate(test_dataset, verbose=0, return_dict=True, batch_size=EVAL_BATCH_SIZE),\n",
        "    )\n",
        "    print(\"-\" * 100)\n",
        "\n",
        "    return model"
      ]
    },
    {
      "cell_type": "code",
      "execution_count": 214,
      "metadata": {
        "colab": {
          "base_uri": "https://localhost:8080/",
          "height": 995
        },
        "id": "yHLkwwsO77R-",
        "outputId": "7da32016-1d6e-4527-e44e-c3f8022c17d6"
      },
      "outputs": [
        {
          "output_type": "stream",
          "name": "stdout",
          "text": [
            "Epoch 1/5\n",
            "109/109 [==============================] - ETA: 0s - loss: 0.2462 - binary_accuracy: 0.9260 - false_negatives_26: 258.0000 - false_positives_26: 258.0000\n",
            "Epoch 1: val_loss improved from inf to 0.20008, saving model to FullModelCheckpoint.h5\n",
            "109/109 [==============================] - 68s 400ms/step - loss: 0.2462 - binary_accuracy: 0.9260 - false_negatives_26: 258.0000 - false_positives_26: 258.0000 - val_loss: 0.2001 - val_binary_accuracy: 0.9692 - val_false_negatives_26: 16.0000 - val_false_positives_26: 16.0000\n",
            "Epoch 2/5\n",
            "109/109 [==============================] - ETA: 0s - loss: 0.3166 - binary_accuracy: 0.8830 - false_negatives_26: 408.0000 - false_positives_26: 408.0000\n",
            "Epoch 2: val_loss did not improve from 0.20008\n",
            "109/109 [==============================] - 38s 351ms/step - loss: 0.3166 - binary_accuracy: 0.8830 - false_negatives_26: 408.0000 - false_positives_26: 408.0000 - val_loss: 0.3837 - val_binary_accuracy: 0.9731 - val_false_negatives_26: 14.0000 - val_false_positives_26: 14.0000\n",
            "Epoch 3/5\n",
            "109/109 [==============================] - ETA: 0s - loss: 0.3091 - binary_accuracy: 0.8667 - false_negatives_26: 465.0000 - false_positives_26: 465.0000\n",
            "Epoch 3: val_loss did not improve from 0.20008\n",
            "109/109 [==============================] - 38s 350ms/step - loss: 0.3091 - binary_accuracy: 0.8667 - false_negatives_26: 465.0000 - false_positives_26: 465.0000 - val_loss: 0.3898 - val_binary_accuracy: 0.9058 - val_false_negatives_26: 49.0000 - val_false_positives_26: 49.0000\n",
            "Epoch 4/5\n",
            "109/109 [==============================] - ETA: 0s - loss: 0.2484 - binary_accuracy: 0.9192 - false_negatives_26: 282.0000 - false_positives_26: 282.0000\n",
            "Epoch 4: val_loss did not improve from 0.20008\n",
            "109/109 [==============================] - 38s 350ms/step - loss: 0.2484 - binary_accuracy: 0.9192 - false_negatives_26: 282.0000 - false_positives_26: 282.0000 - val_loss: 0.2980 - val_binary_accuracy: 0.9654 - val_false_negatives_26: 18.0000 - val_false_positives_26: 18.0000\n",
            "Epoch 5/5\n",
            "109/109 [==============================] - ETA: 0s - loss: 0.2525 - binary_accuracy: 0.8922 - false_negatives_26: 376.0000 - false_positives_26: 376.0000\n",
            "Epoch 5: val_loss did not improve from 0.20008\n",
            "109/109 [==============================] - 38s 350ms/step - loss: 0.2525 - binary_accuracy: 0.8922 - false_negatives_26: 376.0000 - false_positives_26: 376.0000 - val_loss: 0.2238 - val_binary_accuracy: 0.9769 - val_false_negatives_26: 12.0000 - val_false_positives_26: 12.0000\n",
            "Epoch 5: early stopping\n"
          ]
        },
        {
          "output_type": "display_data",
          "data": {
            "text/plain": [
              "<Figure size 432x288 with 1 Axes>"
            ],
            "image/png": "[encoded data removed]"
          },
          "metadata": {
            "needs_background": "light"
          }
        },
        {
          "output_type": "display_data",
          "data": {
            "text/plain": [
              "<Figure size 432x288 with 1 Axes>"
            ],
            "image/png": "[encoded data removed]"
          },
          "metadata": {
            "needs_background": "light"
          }
        },
        {
          "output_type": "stream",
          "name": "stdout",
          "text": [
            "WARNING:tensorflow:Error in loading the saved optimizer state. As a result, your model is starting with a freshly initialized optimizer.\n",
            "----------------------------------------------------------------------------------------------------\n",
            "Test set evaluation:  {'loss': 0.15294621884822845, 'binary_accuracy': 0.9879032373428345, 'false_negatives_26': 12.0, 'false_positives_26': 12.0}\n",
            "----------------------------------------------------------------------------------------------------\n"
          ]
        }
      ],
      "source": [
        "full_dataset_model = train_full_model(train, val, test)"
      ]
    }
  ],
  "metadata": {
    "accelerator": "GPU",
    "colab": {
      "name": "BERT Model for user intent categorization [1st layer].ipynb",
      "provenance": [],
      "authorship_tag": "ABX9TyOlF8ARSCr/LdudCYPDZIJs",
      "include_colab_link": true
    },
    "kernelspec": {
      "display_name": "Python 3",
      "name": "python3"
    },
    "language_info": {
      "name": "python"
    }
  },
  "nbformat": 4,
  "nbformat_minor": 0
}