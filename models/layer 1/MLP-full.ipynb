{
 "cells": [
  {
   "cell_type": "code",
   "execution_count": 1,
   "metadata": {},
   "outputs": [
    {
     "name": "stderr",
     "output_type": "stream",
     "text": [
      "2022-06-19 14:53:46.949962: W tensorflow/stream_executor/platform/default/dso_loader.cc:64] Could not load dynamic library 'libcudart.so.11.0'; dlerror: libcudart.so.11.0: cannot open shared object file: No such file or directory\n",
      "2022-06-19 14:53:46.949991: I tensorflow/stream_executor/cuda/cudart_stub.cc:29] Ignore above cudart dlerror if you do not have a GPU set up on your machine.\n"
     ]
    }
   ],
   "source": [
    "from transformers import logging\n",
    "\n",
    "import random\n",
    "import os\n",
    "\n",
    "import tensorflow as tf\n",
    "from tensorflow import keras\n",
    "from keras import layers\n",
    "\n",
    "import matplotlib.pyplot as plt\n",
    "import re\n",
    "import string\n",
    "\n",
    "import numpy as np\n",
    "import pandas as pd\n",
    "\n",
    "from sklearn.preprocessing import LabelEncoder"
   ]
  },
  {
   "cell_type": "code",
   "execution_count": 2,
   "metadata": {},
   "outputs": [],
   "source": [
    "# setting up seed\n",
    "seed = 123\n",
    "\n",
    "os.environ['PYTHONHASHSEED']=str(seed)\n",
    "random.seed(seed)\n",
    "np.random.seed(seed)\n",
    "tf.random.set_seed(seed)\n",
    "\n",
    "logging.set_verbosity_error()"
   ]
  },
  {
   "cell_type": "code",
   "execution_count": 3,
   "metadata": {},
   "outputs": [],
   "source": [
    "BATCH_SIZE = 128 # batch size used on the train and validation set\n",
    "NUM_TRAIN_EPOCHS = 5 # number of iterations for the model training\n",
    "MAX_SEQ_LENGTH = 128 # used to cut/pad the text into tokens"
   ]
  },
  {
   "cell_type": "code",
   "execution_count": 7,
   "metadata": {},
   "outputs": [],
   "source": [
    "# Loading the dataset\n",
    "path = '../../datasets/'\n",
    "taxonomy = pd.read_csv(path + 'taxonomy.csv')"
   ]
  },
  {
   "cell_type": "code",
   "execution_count": 8,
   "metadata": {},
   "outputs": [],
   "source": [
    "# Encoding the labels to binary values\n",
    "bin_encoder = LabelEncoder()\n",
    "taxonomy['label'] = bin_encoder.fit_transform(taxonomy['label'])"
   ]
  },
  {
   "cell_type": "code",
   "execution_count": 9,
   "metadata": {},
   "outputs": [
    {
     "name": "stdout",
     "output_type": "stream",
     "text": [
      "Initial training set size: 3500\n",
      "Validation set size: 500\n",
      "Testing set size: 1000\n"
     ]
    },
    {
     "name": "stderr",
     "output_type": "stream",
     "text": [
      "2022-06-19 14:54:28.692708: W tensorflow/stream_executor/platform/default/dso_loader.cc:64] Could not load dynamic library 'libcuda.so.1'; dlerror: libcuda.so.1: cannot open shared object file: No such file or directory\n",
      "2022-06-19 14:54:28.692738: W tensorflow/stream_executor/cuda/cuda_driver.cc:269] failed call to cuInit: UNKNOWN ERROR (303)\n",
      "2022-06-19 14:54:28.692765: I tensorflow/stream_executor/cuda/cuda_diagnostics.cc:156] kernel driver does not appear to be running on this host (jasmine): /proc/driver/nvidia/version does not exist\n",
      "2022-06-19 14:54:28.694007: I tensorflow/core/platform/cpu_feature_guard.cc:193] This TensorFlow binary is optimized with oneAPI Deep Neural Network Library (oneDNN) to use the following CPU instructions in performance-critical operations:  AVX2 FMA\n",
      "To enable them in other operations, rebuild TensorFlow with the appropriate compiler flags.\n"
     ]
    }
   ],
   "source": [
    "# Randomly sample four sets: pool of train set (70%), validation set (10%), test set (20%)\n",
    "train_split, val_split, test_split = np.split(taxonomy.sample(frac=1, random_state=seed), [int(.7*len(taxonomy)), int(.8*len(taxonomy))])\n",
    "\n",
    "# Creating TF Datasets for faster prefetching and parallelization\n",
    "train_dataset = tf.data.Dataset.from_tensor_slices((train_split['query'], train_split['label']))\n",
    "val_dataset = tf.data.Dataset.from_tensor_slices((val_split['query'], val_split['label']))\n",
    "test_dataset = tf.data.Dataset.from_tensor_slices((test_split['query'], test_split['label']))\n",
    "\n",
    "print(f\"Initial training set size: {len(train_dataset)}\")\n",
    "print(f\"Validation set size: {len(val_dataset)}\")\n",
    "print(f\"Testing set size: {len(test_dataset)}\")"
   ]
  },
  {
   "cell_type": "code",
   "execution_count": 10,
   "metadata": {},
   "outputs": [],
   "source": [
    "# Cleaning up the text and vectorizing it\n",
    "def custom_standardization(input_data):\n",
    "    lowercase = tf.strings.lower(input_data)\n",
    "    stripped_html = tf.strings.regex_replace(lowercase, \"<br />\", \" \")\n",
    "    return tf.strings.regex_replace(\n",
    "        stripped_html, f\"[{re.escape(string.punctuation)}]\", \"\"\n",
    "    )\n",
    "\n",
    "vectorizer = layers.TextVectorization(\n",
    "    3000, standardize=custom_standardization, output_sequence_length=MAX_SEQ_LENGTH\n",
    ")\n",
    "# Adapting the dataset\n",
    "vectorizer.adapt(\n",
    "    train_dataset.map(lambda x, y: x, num_parallel_calls=tf.data.AUTOTUNE).batch(BATCH_SIZE)\n",
    ")\n",
    "\n",
    "def vectorize_text(text, label):\n",
    "    text = vectorizer(text)\n",
    "    return text, label\n",
    "\n",
    "train_dataset = train_dataset.map(vectorize_text, num_parallel_calls=tf.data.AUTOTUNE).prefetch(tf.data.AUTOTUNE)\n",
    "\n",
    "val_dataset = val_dataset.batch(BATCH_SIZE).map(\n",
    "    vectorize_text, num_parallel_calls=tf.data.AUTOTUNE\n",
    ")\n",
    "test_dataset = test_dataset.batch(BATCH_SIZE).map(\n",
    "    vectorize_text, num_parallel_calls=tf.data.AUTOTUNE\n",
    ")"
   ]
  },
  {
   "cell_type": "code",
   "execution_count": 11,
   "metadata": {},
   "outputs": [],
   "source": [
    "# Helper function for merging new history objects with older ones\n",
    "def append_history(losses, val_losses, accuracy, val_accuracy, history):\n",
    "    losses = losses + history.history[\"loss\"]\n",
    "    val_losses = val_losses + history.history[\"val_loss\"]\n",
    "    accuracy = accuracy + history.history[\"binary_accuracy\"]\n",
    "    val_accuracy = val_accuracy + history.history[\"val_binary_accuracy\"]\n",
    "    return losses, val_losses, accuracy, val_accuracy\n",
    "\n",
    "\n",
    "# Plotter function\n",
    "def plot_history(losses, val_losses, accuracies, val_accuracies):\n",
    "    plt.plot(losses)\n",
    "    plt.plot(val_losses)\n",
    "    plt.legend([\"train_loss\", \"val_loss\"])\n",
    "    plt.xlabel(\"Epochs\")\n",
    "    plt.ylabel(\"Loss\")\n",
    "    plt.show()\n",
    "\n",
    "    plt.plot(accuracies)\n",
    "    plt.plot(val_accuracies)\n",
    "    plt.legend([\"train_accuracy\", \"val_accuracy\"])\n",
    "    plt.xlabel(\"Epochs\")\n",
    "    plt.ylabel(\"Accuracy\")\n",
    "    plt.show()"
   ]
  },
  {
   "cell_type": "code",
   "execution_count": 12,
   "metadata": {},
   "outputs": [],
   "source": [
    "def create_model():\n",
    "    model = keras.models.Sequential(\n",
    "        [\n",
    "            layers.Input(shape=(MAX_SEQ_LENGTH,)),\n",
    "            layers.Embedding(input_dim=3000, output_dim=MAX_SEQ_LENGTH),\n",
    "            layers.GlobalMaxPool1D(),\n",
    "            layers.Dense(12, activation=\"relu\"),\n",
    "            layers.Dropout(0.3),\n",
    "            layers.Dense(1, activation=\"sigmoid\"),\n",
    "        ]\n",
    "    )\n",
    "    model.summary()\n",
    "    return model"
   ]
  },
  {
   "cell_type": "code",
   "execution_count": 13,
   "metadata": {},
   "outputs": [],
   "source": [
    "def train_full_model(\n",
    "    train_dataset,\n",
    "    val_dataset,\n",
    "    test_dataset\n",
    "):\n",
    "    # Creating lists for storing metrics\n",
    "    losses, val_losses, accuracies, val_accuracies = [], [], [], []\n",
    "\n",
    "    model = create_model()\n",
    "    # We will monitor the false positives and false negatives predicted by our model\n",
    "    # These will decide the subsequent sampling ratio for every Active Learning loop\n",
    "    model.compile(\n",
    "        loss=\"binary_crossentropy\",\n",
    "        optimizer=\"rmsprop\",\n",
    "        metrics=[\n",
    "            keras.metrics.BinaryAccuracy(),\n",
    "            keras.metrics.FalseNegatives(),\n",
    "            keras.metrics.FalsePositives()\n",
    "        ],\n",
    "    )\n",
    "\n",
    "    # Defining checkpoints.\n",
    "    # The checkpoint callback is reused throughout the training since it only saves the best overall model.\n",
    "    checkpoint = keras.callbacks.ModelCheckpoint(\n",
    "        \"MLP_Full.h5\", save_best_only=True, verbose=1\n",
    "    )\n",
    "    # Here, patience is set to 4. This can be set higher if desired.\n",
    "    early_stopping = keras.callbacks.EarlyStopping(patience=4, verbose=1)\n",
    "\n",
    "    print(f\"Starting to train with {len(train_dataset)} samples\")\n",
    "    # Initial fit with a small subset of the training set\n",
    "    history = model.fit(\n",
    "        train_dataset.cache().shuffle(500).batch(BATCH_SIZE),\n",
    "        epochs=NUM_TRAIN_EPOCHS,\n",
    "        validation_data=val_dataset,\n",
    "        callbacks=[checkpoint, early_stopping],\n",
    "    )\n",
    "\n",
    "    # Appending history\n",
    "    losses, val_losses, accuracies, val_accuracies = append_history(\n",
    "        losses, val_losses, accuracies, val_accuracies, history\n",
    "    )\n",
    "\n",
    "    # Plotting the overall history and evaluating the final model\n",
    "    plot_history(losses, val_losses, accuracies, val_accuracies)\n",
    "    print(\"-\" * 100)\n",
    "    print(\n",
    "        \"Test set evaluation: \",\n",
    "        model.evaluate(test_dataset, verbose=0, return_dict=True),\n",
    "    )\n",
    "    print(\"-\" * 100)\n",
    "\n",
    "    return model"
   ]
  },
  {
   "cell_type": "code",
   "execution_count": 14,
   "metadata": {},
   "outputs": [
    {
     "name": "stdout",
     "output_type": "stream",
     "text": [
      "Model: \"sequential\"\n",
      "_________________________________________________________________\n",
      " Layer (type)                Output Shape              Param #   \n",
      "=================================================================\n",
      " embedding (Embedding)       (None, 128, 128)          384000    \n",
      "                                                                 \n",
      " global_max_pooling1d (Globa  (None, 128)              0         \n",
      " lMaxPooling1D)                                                  \n",
      "                                                                 \n",
      " dense (Dense)               (None, 12)                1548      \n",
      "                                                                 \n",
      " dropout (Dropout)           (None, 12)                0         \n",
      "                                                                 \n",
      " dense_1 (Dense)             (None, 1)                 13        \n",
      "                                                                 \n",
      "=================================================================\n",
      "Total params: 385,561\n",
      "Trainable params: 385,561\n",
      "Non-trainable params: 0\n",
      "_________________________________________________________________\n",
      "Starting to train with 3500 samples\n",
      "Epoch 1/5\n",
      "26/28 [==========================>...] - ETA: 0s - loss: 0.6661 - binary_accuracy: 0.5904 - false_negatives: 23.0000 - false_positives: 1340.0000\n",
      "Epoch 1: val_loss improved from inf to 0.62672, saving model to MLP_Full.h5\n",
      "28/28 [==============================] - 2s 24ms/step - loss: 0.6648 - binary_accuracy: 0.5931 - false_negatives: 23.0000 - false_positives: 1401.0000 - val_loss: 0.6267 - val_binary_accuracy: 0.6320 - val_false_negatives: 0.0000e+00 - val_false_positives: 184.0000\n",
      "Epoch 2/5\n",
      "27/28 [===========================>..] - ETA: 0s - loss: 0.6062 - binary_accuracy: 0.7341 - false_negatives: 46.0000 - false_positives: 873.0000\n",
      "Epoch 2: val_loss improved from 0.62672 to 0.55557, saving model to MLP_Full.h5\n",
      "28/28 [==============================] - 0s 13ms/step - loss: 0.6060 - binary_accuracy: 0.7334 - false_negatives: 49.0000 - false_positives: 884.0000 - val_loss: 0.5556 - val_binary_accuracy: 0.8080 - val_false_negatives: 4.0000 - val_false_positives: 92.0000\n",
      "Epoch 3/5\n",
      "23/28 [=======================>......] - ETA: 0s - loss: 0.5342 - binary_accuracy: 0.8342 - false_negatives: 84.0000 - false_positives: 404.0000\n",
      "Epoch 3: val_loss improved from 0.55557 to 0.47113, saving model to MLP_Full.h5\n",
      "28/28 [==============================] - 0s 12ms/step - loss: 0.5286 - binary_accuracy: 0.8363 - false_negatives: 102.0000 - false_positives: 471.0000 - val_loss: 0.4711 - val_binary_accuracy: 0.8620 - val_false_negatives: 13.0000 - val_false_positives: 56.0000\n",
      "Epoch 4/5\n",
      "28/28 [==============================] - ETA: 0s - loss: 0.4454 - binary_accuracy: 0.8789 - false_negatives: 125.0000 - false_positives: 299.0000\n",
      "Epoch 4: val_loss improved from 0.47113 to 0.38675, saving model to MLP_Full.h5\n",
      "28/28 [==============================] - 0s 13ms/step - loss: 0.4454 - binary_accuracy: 0.8789 - false_negatives: 125.0000 - false_positives: 299.0000 - val_loss: 0.3868 - val_binary_accuracy: 0.8920 - val_false_negatives: 20.0000 - val_false_positives: 34.0000\n",
      "Epoch 5/5\n",
      "27/28 [===========================>..] - ETA: 0s - loss: 0.3651 - binary_accuracy: 0.9054 - false_negatives: 123.0000 - false_positives: 204.0000\n",
      "Epoch 5: val_loss improved from 0.38675 to 0.31436, saving model to MLP_Full.h5\n",
      "28/28 [==============================] - 0s 12ms/step - loss: 0.3637 - binary_accuracy: 0.9066 - false_negatives: 123.0000 - false_positives: 204.0000 - val_loss: 0.3144 - val_binary_accuracy: 0.9020 - val_false_negatives: 22.0000 - val_false_positives: 27.0000\n"
     ]
    },
    {
     "data": {
      "image/png": "[encoded data removed]",
      "text/plain": [
       "<Figure size 432x288 with 1 Axes>"
      ]
     },
     "metadata": {
      "needs_background": "light"
     },
     "output_type": "display_data"
    },
    {
     "data": {
      "image/png": "[encoded data removed]",
      "text/plain": [
       "<Figure size 432x288 with 1 Axes>"
      ]
     },
     "metadata": {
      "needs_background": "light"
     },
     "output_type": "display_data"
    },
    {
     "name": "stdout",
     "output_type": "stream",
     "text": [
      "----------------------------------------------------------------------------------------------------\n",
      "Test set evaluation:  {'loss': 0.3402416408061981, 'binary_accuracy': 0.8880000114440918, 'false_negatives': 38.0, 'false_positives': 74.0}\n",
      "----------------------------------------------------------------------------------------------------\n"
     ]
    }
   ],
   "source": [
    "# Training the model\n",
    "full_dataset_model = train_full_model(train_dataset, val_dataset, test_dataset)"
   ]
  }
 ],
 "metadata": {
  "interpreter": {
   "hash": "31f2aee4e71d21fbe5cf8b01ff0e069b9275f58929596ceb00d14d90e3e16cd6"
  },
  "kernelspec": {
   "display_name": "Python 3.8.10 64-bit",
   "language": "python",
   "name": "python3"
  },
  "language_info": {
   "codemirror_mode": {
    "name": "ipython",
    "version": 3
   },
   "file_extension": ".py",
   "mimetype": "text/x-python",
   "name": "python",
   "nbconvert_exporter": "python",
   "pygments_lexer": "ipython3",
   "version": "3.8.10"
  },
  "orig_nbformat": 4
 },
 "nbformat": 4,
 "nbformat_minor": 2
}
