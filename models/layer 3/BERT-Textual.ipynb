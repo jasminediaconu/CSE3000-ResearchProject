{
 "cells": [
  {
   "cell_type": "code",
   "execution_count": 21,
   "metadata": {
    "execution": {
     "iopub.execute_input": "2022-06-20T11:14:09.123584Z",
     "iopub.status.busy": "2022-06-20T11:14:09.123202Z",
     "iopub.status.idle": "2022-06-20T11:14:09.129976Z",
     "shell.execute_reply": "2022-06-20T11:14:09.128788Z",
     "shell.execute_reply.started": "2022-06-20T11:14:09.123546Z"
    }
   },
   "outputs": [],
   "source": [
    "from transformers import logging\n",
    "\n",
    "import random\n",
    "import os\n",
    "\n",
    "import tensorflow as tf\n",
    "from tensorflow import keras\n",
    "from keras.utils import np_utils\n",
    "\n",
    "import matplotlib.pyplot as plt\n",
    "import numpy as np\n",
    "import pandas as pd\n",
    "\n",
    "from sklearn.preprocessing import LabelEncoder"
   ]
  },
  {
   "cell_type": "code",
   "execution_count": 22,
   "metadata": {
    "execution": {
     "iopub.execute_input": "2022-06-20T11:14:09.132575Z",
     "iopub.status.busy": "2022-06-20T11:14:09.132266Z",
     "iopub.status.idle": "2022-06-20T11:14:09.138494Z",
     "shell.execute_reply": "2022-06-20T11:14:09.137547Z",
     "shell.execute_reply.started": "2022-06-20T11:14:09.132548Z"
    }
   },
   "outputs": [],
   "source": [
    "# setting up seed\n",
    "seed = 123\n",
    "\n",
    "os.environ['PYTHONHASHSEED']=str(seed)\n",
    "random.seed(seed)\n",
    "np.random.seed(seed)\n",
    "tf.random.set_seed(seed)\n",
    "\n",
    "logging.set_verbosity_error()"
   ]
  },
  {
   "cell_type": "code",
   "execution_count": 23,
   "metadata": {
    "execution": {
     "iopub.execute_input": "2022-06-20T11:14:09.139928Z",
     "iopub.status.busy": "2022-06-20T11:14:09.139674Z",
     "iopub.status.idle": "2022-06-20T11:14:09.144195Z",
     "shell.execute_reply": "2022-06-20T11:14:09.143405Z",
     "shell.execute_reply.started": "2022-06-20T11:14:09.139893Z"
    }
   },
   "outputs": [],
   "source": [
    "BATCH_SIZE = 32 # batch size used on the train and validation set\n",
    "NUM_TRAIN_EPOCHS = 5 # number of iterations for the model training\n",
    "MAX_SEQ_LENGTH = 128 # used to cut/pad the text into tokens"
   ]
  },
  {
   "cell_type": "code",
   "execution_count": 24,
   "metadata": {
    "execution": {
     "iopub.execute_input": "2022-06-20T11:14:09.145993Z",
     "iopub.status.busy": "2022-06-20T11:14:09.145778Z",
     "iopub.status.idle": "2022-06-20T11:14:09.155243Z",
     "shell.execute_reply": "2022-06-20T11:14:09.154481Z",
     "shell.execute_reply.started": "2022-06-20T11:14:09.145968Z"
    }
   },
   "outputs": [],
   "source": [
    "# Loading the dataset\n",
    "path = '../../datasets/'\n",
    "taxonomy = pd.read_csv(path + 'textual.csv')\n",
    "queries, labels = taxonomy['query'].to_numpy(), taxonomy['label'].to_numpy()"
   ]
  },
  {
   "cell_type": "code",
   "execution_count": 25,
   "metadata": {
    "execution": {
     "iopub.execute_input": "2022-06-20T11:14:09.157440Z",
     "iopub.status.busy": "2022-06-20T11:14:09.157209Z",
     "iopub.status.idle": "2022-06-20T11:14:09.164145Z",
     "shell.execute_reply": "2022-06-20T11:14:09.162924Z",
     "shell.execute_reply.started": "2022-06-20T11:14:09.157415Z"
    }
   },
   "outputs": [],
   "source": [
    "# Encoding the labels to categorical values\n",
    "taxonomy['label'] = pd.Categorical(taxonomy['label'])\n",
    "labels = taxonomy['label'].cat.codes\n",
    "\n",
    "labels = np_utils.to_categorical(labels)"
   ]
  },
  {
   "cell_type": "code",
   "execution_count": 26,
   "metadata": {
    "execution": {
     "iopub.execute_input": "2022-06-20T11:14:09.165594Z",
     "iopub.status.busy": "2022-06-20T11:14:09.165356Z",
     "iopub.status.idle": "2022-06-20T11:14:10.249653Z",
     "shell.execute_reply": "2022-06-20T11:14:10.248690Z",
     "shell.execute_reply.started": "2022-06-20T11:14:09.165561Z"
    }
   },
   "outputs": [],
   "source": [
    "from transformers import BertTokenizer\n",
    "\n",
    "tokenizer = BertTokenizer.from_pretrained('bert-base-uncased')\n",
    "\n",
    "def tokenize(sentence):\n",
    "    tokens = tokenizer.encode_plus(sentence, max_length=MAX_SEQ_LENGTH,\n",
    "                                   truncation=True, padding='max_length',\n",
    "                                   add_special_tokens=True, return_attention_mask=True,\n",
    "                                   return_token_type_ids=False, return_tensors='tf')\n",
    "    return tokens['input_ids'], tokens['attention_mask']\n",
    "\n",
    "# initialize two arrays for input tensors\n",
    "Xids = np.zeros((len(taxonomy), MAX_SEQ_LENGTH))\n",
    "Xmask = np.zeros((len(taxonomy), MAX_SEQ_LENGTH))\n",
    "\n",
    "for i, sentence in enumerate(taxonomy['query']):\n",
    "    Xids[i, :], Xmask[i, :] = tokenize(sentence)"
   ]
  },
  {
   "cell_type": "code",
   "execution_count": 27,
   "metadata": {
    "execution": {
     "iopub.execute_input": "2022-06-20T11:14:10.250941Z",
     "iopub.status.busy": "2022-06-20T11:14:10.250726Z",
     "iopub.status.idle": "2022-06-20T11:14:10.268709Z",
     "shell.execute_reply": "2022-06-20T11:14:10.267977Z",
     "shell.execute_reply.started": "2022-06-20T11:14:10.250917Z"
    }
   },
   "outputs": [],
   "source": [
    "import tensorflow as tf\n",
    "\n",
    "# load arrays into tensorflow dataset\n",
    "dataset = tf.data.Dataset.from_tensor_slices((Xids, Xmask, labels))\n",
    "\n",
    "# create a mapping function that we use to restructure our dataset\n",
    "def map_func(input_ids, masks, labels):\n",
    "    return {'input_ids': input_ids, 'attention_mask': masks}, labels\n",
    "\n",
    "# using map method to apply map_func to dataset\n",
    "dataset = dataset.map(map_func)\n",
    "\n",
    "# shuffle data and batch it\n",
    "dataset = dataset.shuffle(500).batch(BATCH_SIZE)"
   ]
  },
  {
   "cell_type": "code",
   "execution_count": 28,
   "metadata": {
    "execution": {
     "iopub.execute_input": "2022-06-20T11:14:10.270164Z",
     "iopub.status.busy": "2022-06-20T11:14:10.269895Z",
     "iopub.status.idle": "2022-06-20T11:14:10.336486Z",
     "shell.execute_reply": "2022-06-20T11:14:10.335860Z",
     "shell.execute_reply.started": "2022-06-20T11:14:10.270129Z"
    }
   },
   "outputs": [],
   "source": [
    "# get the length of the batched dataset\n",
    "DS_LEN = len([0 for batch in dataset])\n",
    "\n",
    "train_size = int(0.7 * DS_LEN)\n",
    "val_size = int(0.1 * DS_LEN)\n",
    "test_size = int(0.2 * DS_LEN)\n",
    "\n",
    "train_dataset = dataset.take(train_size)\n",
    "test_dataset = dataset.skip(train_size)\n",
    "val_dataset = test_dataset.skip(test_size)\n",
    "test_dataset = test_dataset.take(test_size)\n",
    "\n",
    "del dataset  # delete dataset to free up disk-space"
   ]
  },
  {
   "cell_type": "code",
   "execution_count": 29,
   "metadata": {
    "execution": {
     "iopub.execute_input": "2022-06-20T11:14:10.337710Z",
     "iopub.status.busy": "2022-06-20T11:14:10.337528Z",
     "iopub.status.idle": "2022-06-20T11:14:10.344724Z",
     "shell.execute_reply": "2022-06-20T11:14:10.343857Z",
     "shell.execute_reply.started": "2022-06-20T11:14:10.337687Z"
    }
   },
   "outputs": [],
   "source": [
    "# Helper function for merging new history objects with older ones\n",
    "def append_history(losses, val_losses, accuracy, val_accuracy, history):\n",
    "    losses = losses + history.history[\"loss\"]\n",
    "    val_losses = val_losses + history.history[\"val_loss\"]\n",
    "    accuracy = accuracy + history.history[\"categorical_accuracy\"]\n",
    "    val_accuracy = val_accuracy + history.history[\"val_categorical_accuracy\"]\n",
    "    return losses, val_losses, accuracy, val_accuracy\n",
    "\n",
    "\n",
    "# Plotter function\n",
    "def plot_history(losses, val_losses, accuracies, val_accuracies):\n",
    "    plt.plot(losses)\n",
    "    plt.plot(val_losses)\n",
    "    plt.legend([\"train_loss\", \"val_loss\"])\n",
    "    plt.xlabel(\"Epochs\")\n",
    "    plt.ylabel(\"Loss\")\n",
    "    plt.show()\n",
    "\n",
    "    plt.plot(accuracies)\n",
    "    plt.plot(val_accuracies)\n",
    "    plt.legend([\"train_accuracy\", \"val_accuracy\"])\n",
    "    plt.xlabel(\"Epochs\")\n",
    "    plt.ylabel(\"Accuracy\")\n",
    "    plt.show()"
   ]
  },
  {
   "cell_type": "code",
   "execution_count": 30,
   "metadata": {
    "execution": {
     "iopub.execute_input": "2022-06-20T11:14:10.346145Z",
     "iopub.status.busy": "2022-06-20T11:14:10.345911Z",
     "iopub.status.idle": "2022-06-20T11:14:10.356760Z",
     "shell.execute_reply": "2022-06-20T11:14:10.355999Z",
     "shell.execute_reply.started": "2022-06-20T11:14:10.346114Z"
    }
   },
   "outputs": [],
   "source": [
    "from transformers import TFBertModel\n",
    "\n",
    "def create_model():\n",
    "    # initialize cased BERT model\n",
    "    bert = TFBertModel.from_pretrained('bert-base-uncased')\n",
    "\n",
    "    input_ids = tf.keras.layers.Input(shape=(MAX_SEQ_LENGTH,), name='input_ids', dtype='int32')\n",
    "    mask = tf.keras.layers.Input(shape=(MAX_SEQ_LENGTH,), name='attention_mask', dtype='int32')\n",
    "\n",
    "    # we consume the last_hidden_state tensor from bert (discarding pooled_outputs)\n",
    "    embeddings = bert(input_ids, attention_mask=mask)[0]\n",
    "\n",
    "    X = tf.keras.layers.LSTM(64)(embeddings)\n",
    "    X = tf.keras.layers.BatchNormalization()(X)\n",
    "    X = tf.keras.layers.Dense(64, activation='relu')(X)\n",
    "    X = tf.keras.layers.Dropout(0.1)(X)\n",
    "    y = tf.keras.layers.Dense(12, activation='softmax', name='outputs')(X)\n",
    "\n",
    "    # define input and output layers of our model\n",
    "    model = tf.keras.Model(inputs=[input_ids, mask], outputs=y)\n",
    "\n",
    "    # freeze the BERT layer - otherwise we will be training 100M+ parameters...\n",
    "    model.layers[2].trainable = False\n",
    "\n",
    "    model.summary()\n",
    "    return model"
   ]
  },
  {
   "cell_type": "code",
   "execution_count": 31,
   "metadata": {
    "execution": {
     "iopub.execute_input": "2022-06-20T11:14:10.358258Z",
     "iopub.status.busy": "2022-06-20T11:14:10.357901Z",
     "iopub.status.idle": "2022-06-20T11:14:10.367655Z",
     "shell.execute_reply": "2022-06-20T11:14:10.366769Z",
     "shell.execute_reply.started": "2022-06-20T11:14:10.358225Z"
    }
   },
   "outputs": [],
   "source": [
    "def train_full_model(full_train_dataset, val_dataset, test_dataset):\n",
    "    model = create_model()\n",
    "    \n",
    "    model.compile(\n",
    "        optimizer=\"adam\", \n",
    "        loss=\"categorical_crossentropy\",\n",
    "        metrics=[            \n",
    "            tf.keras.metrics.CategoricalAccuracy()\n",
    "        ],\n",
    "    )\n",
    "\n",
    "    early_stopping = tf.keras.callbacks.EarlyStopping(patience=4, verbose=1)\n",
    "    model_checkpoint = tf.keras.callbacks.ModelCheckpoint(\n",
    "                \"BERT_Textual.h5\", verbose=1, save_best_only=True)\n",
    "    history = model.fit(full_train_dataset, validation_data=val_dataset, epochs=NUM_TRAIN_EPOCHS,\n",
    "        callbacks=[early_stopping, model_checkpoint])\n",
    "    \n",
    "    # Plot history\n",
    "    plot_history(\n",
    "        history.history[\"loss\"],\n",
    "        history.history[\"val_loss\"],\n",
    "        history.history[\"categorical_accuracy\"],\n",
    "        history.history[\"val_categorical_accuracy\"],\n",
    "    )\n",
    "\n",
    "    # Loading the best checkpoint\n",
    "    model = tf.keras.models.load_model(\"BERT_Textual.h5\", custom_objects={\"TFBertModel\": TFBertModel})\n",
    "\n",
    "    print(\"-\" * 100)\n",
    "    print(\n",
    "        \"Test set evaluation: \",\n",
    "        model.evaluate(test_dataset, verbose=0, return_dict=True),\n",
    "    )\n",
    "    print(\"-\" * 100)\n",
    "\n",
    "    return model"
   ]
  },
  {
   "cell_type": "code",
   "execution_count": 32,
   "metadata": {
    "execution": {
     "iopub.execute_input": "2022-06-20T11:14:10.369993Z",
     "iopub.status.busy": "2022-06-20T11:14:10.369314Z",
     "iopub.status.idle": "2022-06-20T11:31:01.100521Z",
     "shell.execute_reply": "2022-06-20T11:31:01.099631Z",
     "shell.execute_reply.started": "2022-06-20T11:14:10.369943Z"
    }
   },
   "outputs": [
    {
     "name": "stdout",
     "output_type": "stream",
     "text": [
      "Model: \"model_1\"\n",
      "__________________________________________________________________________________________________\n",
      " Layer (type)                   Output Shape         Param #     Connected to                     \n",
      "==================================================================================================\n",
      " input_ids (InputLayer)         [(None, 128)]        0           []                               \n",
      "                                                                                                  \n",
      " attention_mask (InputLayer)    [(None, 128)]        0           []                               \n",
      "                                                                                                  \n",
      " tf_bert_model_1 (TFBertModel)  TFBaseModelOutputWi  109482240   ['input_ids[0][0]',              \n",
      "                                thPoolingAndCrossAt               'attention_mask[0][0]']         \n",
      "                                tentions(last_hidde                                               \n",
      "                                n_state=(None, 128,                                               \n",
      "                                 768),                                                            \n",
      "                                 pooler_output=(Non                                               \n",
      "                                e, 768),                                                          \n",
      "                                 past_key_values=No                                               \n",
      "                                ne, hidden_states=N                                               \n",
      "                                one, attentions=Non                                               \n",
      "                                e, cross_attentions                                               \n",
      "                                =None)                                                            \n",
      "                                                                                                  \n",
      " lstm_1 (LSTM)                  (None, 64)           213248      ['tf_bert_model_1[0][0]']        \n",
      "                                                                                                  \n",
      " batch_normalization_1 (BatchNo  (None, 64)          256         ['lstm_1[0][0]']                 \n",
      " rmalization)                                                                                     \n",
      "                                                                                                  \n",
      " dense_1 (Dense)                (None, 64)           4160        ['batch_normalization_1[0][0]']  \n",
      "                                                                                                  \n",
      " dropout_75 (Dropout)           (None, 64)           0           ['dense_1[0][0]']                \n",
      "                                                                                                  \n",
      " outputs (Dense)                (None, 12)           780         ['dropout_75[0][0]']             \n",
      "                                                                                                  \n",
      "==================================================================================================\n",
      "Total params: 109,700,684\n",
      "Trainable params: 218,316\n",
      "Non-trainable params: 109,482,368\n",
      "__________________________________________________________________________________________________\n",
      "Epoch 1/5\n",
      "37/37 [==============================] - ETA: 0s - loss: 1.8340 - categorical_accuracy: 0.4772\n",
      "Epoch 1: val_loss improved from inf to 2.18258, saving model to BERT_Textual.h5\n",
      "37/37 [==============================] - 201s 5s/step - loss: 1.8340 - categorical_accuracy: 0.4772 - val_loss: 2.1826 - val_categorical_accuracy: 0.2870\n",
      "Epoch 2/5\n",
      "37/37 [==============================] - ETA: 0s - loss: 1.3300 - categorical_accuracy: 0.6090\n",
      "Epoch 2: val_loss did not improve from 2.18258\n",
      "37/37 [==============================] - 181s 5s/step - loss: 1.3300 - categorical_accuracy: 0.6090 - val_loss: 2.3219 - val_categorical_accuracy: 0.2315\n",
      "Epoch 3/5\n",
      "37/37 [==============================] - ETA: 0s - loss: 1.1498 - categorical_accuracy: 0.6410\n",
      "Epoch 3: val_loss improved from 2.18258 to 2.14326, saving model to BERT_Textual.h5\n",
      "37/37 [==============================] - 192s 5s/step - loss: 1.1498 - categorical_accuracy: 0.6410 - val_loss: 2.1433 - val_categorical_accuracy: 0.2824\n",
      "Epoch 4/5\n",
      "37/37 [==============================] - ETA: 0s - loss: 0.9856 - categorical_accuracy: 0.6841\n",
      "Epoch 4: val_loss improved from 2.14326 to 1.95300, saving model to BERT_Textual.h5\n",
      "37/37 [==============================] - 194s 5s/step - loss: 0.9856 - categorical_accuracy: 0.6841 - val_loss: 1.9530 - val_categorical_accuracy: 0.3611\n",
      "Epoch 5/5\n",
      "37/37 [==============================] - ETA: 0s - loss: 0.9063 - categorical_accuracy: 0.7340\n",
      "Epoch 5: val_loss did not improve from 1.95300\n",
      "37/37 [==============================] - 190s 5s/step - loss: 0.9063 - categorical_accuracy: 0.7340 - val_loss: 2.0968 - val_categorical_accuracy: 0.3241\n"
     ]
    },
    {
     "data": {
      "image/png": "[encoded data removed]",
      "text/plain": [
       "<Figure size 432x288 with 1 Axes>"
      ]
     },
     "metadata": {
      "needs_background": "light"
     },
     "output_type": "display_data"
    },
    {
     "data": {
      "image/png": "[encoded data removed]",
      "text/plain": [
       "<Figure size 432x288 with 1 Axes>"
      ]
     },
     "metadata": {
      "needs_background": "light"
     },
     "output_type": "display_data"
    },
    {
     "name": "stdout",
     "output_type": "stream",
     "text": [
      "WARNING:tensorflow:Error in loading the saved optimizer state. As a result, your model is starting with a freshly initialized optimizer.\n",
      "----------------------------------------------------------------------------------------------------\n",
      "Test set evaluation:  {'loss': 1.9645473957061768, 'categorical_accuracy': 0.3531250059604645}\n",
      "----------------------------------------------------------------------------------------------------\n"
     ]
    }
   ],
   "source": [
    "# Training the model\n",
    "full_dataset_model = train_full_model(train_dataset, val_dataset, test_dataset)"
   ]
  }
 ],
 "metadata": {
  "kernelspec": {
   "display_name": "Python 3 (ipykernel)",
   "language": "python",
   "name": "python3"
  },
  "language_info": {
   "codemirror_mode": {
    "name": "ipython",
    "version": 3
   },
   "file_extension": ".py",
   "mimetype": "text/x-python",
   "name": "python",
   "nbconvert_exporter": "python",
   "pygments_lexer": "ipython3",
   "version": "3.9.10"
  },
  "vscode": {
   "interpreter": {
    "hash": "fa9018ae899f1e6633f598504a35f2a7a60fdaff40966fa232a77565ef07d3c0"
   }
  }
 },
 "nbformat": 4,
 "nbformat_minor": 4
}
