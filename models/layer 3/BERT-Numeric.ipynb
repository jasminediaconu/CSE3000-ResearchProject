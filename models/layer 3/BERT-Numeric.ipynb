{
 "cells": [
  {
   "cell_type": "code",
   "execution_count": 1,
   "metadata": {
    "execution": {
     "iopub.execute_input": "2022-06-20T11:37:02.681192Z",
     "iopub.status.busy": "2022-06-20T11:37:02.680888Z",
     "iopub.status.idle": "2022-06-20T11:37:07.755434Z",
     "shell.execute_reply": "2022-06-20T11:37:07.754594Z",
     "shell.execute_reply.started": "2022-06-20T11:37:02.681110Z"
    }
   },
   "outputs": [
    {
     "name": "stderr",
     "output_type": "stream",
     "text": [
      "2022-06-20 11:37:03.495083: W tensorflow/stream_executor/platform/default/dso_loader.cc:64] Could not load dynamic library 'libcudart.so.11.0'; dlerror: libcudart.so.11.0: cannot open shared object file: No such file or directory\n",
      "2022-06-20 11:37:03.495114: I tensorflow/stream_executor/cuda/cudart_stub.cc:29] Ignore above cudart dlerror if you do not have a GPU set up on your machine.\n"
     ]
    }
   ],
   "source": [
    "from transformers import logging\n",
    "\n",
    "import random\n",
    "import os\n",
    "\n",
    "import tensorflow as tf\n",
    "from tensorflow import keras\n",
    "from keras.utils import np_utils\n",
    "\n",
    "import matplotlib.pyplot as plt\n",
    "import numpy as np\n",
    "import pandas as pd\n",
    "\n",
    "from sklearn.preprocessing import LabelEncoder"
   ]
  },
  {
   "cell_type": "code",
   "execution_count": 2,
   "metadata": {
    "execution": {
     "iopub.execute_input": "2022-06-20T11:37:07.757281Z",
     "iopub.status.busy": "2022-06-20T11:37:07.757088Z",
     "iopub.status.idle": "2022-06-20T11:37:07.762054Z",
     "shell.execute_reply": "2022-06-20T11:37:07.761204Z",
     "shell.execute_reply.started": "2022-06-20T11:37:07.757256Z"
    }
   },
   "outputs": [],
   "source": [
    "# setting up seed\n",
    "seed = 123\n",
    "\n",
    "os.environ['PYTHONHASHSEED']=str(seed)\n",
    "random.seed(seed)\n",
    "np.random.seed(seed)\n",
    "tf.random.set_seed(seed)\n",
    "\n",
    "logging.set_verbosity_error()"
   ]
  },
  {
   "cell_type": "code",
   "execution_count": 3,
   "metadata": {
    "execution": {
     "iopub.execute_input": "2022-06-20T11:37:07.763207Z",
     "iopub.status.busy": "2022-06-20T11:37:07.763008Z",
     "iopub.status.idle": "2022-06-20T11:37:07.768850Z",
     "shell.execute_reply": "2022-06-20T11:37:07.768055Z",
     "shell.execute_reply.started": "2022-06-20T11:37:07.763174Z"
    }
   },
   "outputs": [],
   "source": [
    "BATCH_SIZE = 32 # batch size used on the train and validation set\n",
    "NUM_TRAIN_EPOCHS = 5 # number of iterations for the model training\n",
    "MAX_SEQ_LENGTH = 128 # used to cut/pad the text into tokens"
   ]
  },
  {
   "cell_type": "code",
   "execution_count": 4,
   "metadata": {
    "execution": {
     "iopub.execute_input": "2022-06-20T11:37:07.771646Z",
     "iopub.status.busy": "2022-06-20T11:37:07.770779Z",
     "iopub.status.idle": "2022-06-20T11:37:07.790498Z",
     "shell.execute_reply": "2022-06-20T11:37:07.789615Z",
     "shell.execute_reply.started": "2022-06-20T11:37:07.771608Z"
    }
   },
   "outputs": [],
   "source": [
    "# Loading the dataset\n",
    "path = '../../datasets/'\n",
    "taxonomy = pd.read_csv('numeric.csv')\n",
    "queries, labels = taxonomy['query'].to_numpy(), taxonomy['label'].to_numpy()"
   ]
  },
  {
   "cell_type": "code",
   "execution_count": 5,
   "metadata": {
    "execution": {
     "iopub.execute_input": "2022-06-20T11:37:07.793016Z",
     "iopub.status.busy": "2022-06-20T11:37:07.792738Z",
     "iopub.status.idle": "2022-06-20T11:37:07.800064Z",
     "shell.execute_reply": "2022-06-20T11:37:07.799265Z",
     "shell.execute_reply.started": "2022-06-20T11:37:07.792980Z"
    }
   },
   "outputs": [],
   "source": [
    "# Encoding the labels to categorical values\n",
    "taxonomy['label'] = pd.Categorical(taxonomy['label'])\n",
    "labels = taxonomy['label'].cat.codes\n",
    "\n",
    "labels = np_utils.to_categorical(labels)"
   ]
  },
  {
   "cell_type": "code",
   "execution_count": 6,
   "metadata": {
    "execution": {
     "iopub.execute_input": "2022-06-20T11:37:07.801560Z",
     "iopub.status.busy": "2022-06-20T11:37:07.801358Z",
     "iopub.status.idle": "2022-06-20T11:37:08.569571Z",
     "shell.execute_reply": "2022-06-20T11:37:08.568919Z",
     "shell.execute_reply.started": "2022-06-20T11:37:07.801536Z"
    }
   },
   "outputs": [
    {
     "name": "stderr",
     "output_type": "stream",
     "text": [
      "2022-06-20 11:37:08.251204: I tensorflow/stream_executor/cuda/cuda_gpu_executor.cc:975] successful NUMA node read from SysFS had negative value (-1), but there must be at least one NUMA node, so returning NUMA node zero\n",
      "2022-06-20 11:37:08.252134: W tensorflow/stream_executor/platform/default/dso_loader.cc:64] Could not load dynamic library 'libcudart.so.11.0'; dlerror: libcudart.so.11.0: cannot open shared object file: No such file or directory\n",
      "2022-06-20 11:37:08.252274: W tensorflow/stream_executor/platform/default/dso_loader.cc:64] Could not load dynamic library 'libcublas.so.11'; dlerror: libcublas.so.11: cannot open shared object file: No such file or directory\n",
      "2022-06-20 11:37:08.252374: W tensorflow/stream_executor/platform/default/dso_loader.cc:64] Could not load dynamic library 'libcublasLt.so.11'; dlerror: libcublasLt.so.11: cannot open shared object file: No such file or directory\n",
      "2022-06-20 11:37:08.252489: W tensorflow/stream_executor/platform/default/dso_loader.cc:64] Could not load dynamic library 'libcufft.so.10'; dlerror: libcufft.so.10: cannot open shared object file: No such file or directory\n",
      "2022-06-20 11:37:08.252613: W tensorflow/stream_executor/platform/default/dso_loader.cc:64] Could not load dynamic library 'libcurand.so.10'; dlerror: libcurand.so.10: cannot open shared object file: No such file or directory\n",
      "2022-06-20 11:37:08.252709: W tensorflow/stream_executor/platform/default/dso_loader.cc:64] Could not load dynamic library 'libcusolver.so.11'; dlerror: libcusolver.so.11: cannot open shared object file: No such file or directory\n",
      "2022-06-20 11:37:08.252800: W tensorflow/stream_executor/platform/default/dso_loader.cc:64] Could not load dynamic library 'libcusparse.so.11'; dlerror: libcusparse.so.11: cannot open shared object file: No such file or directory\n",
      "2022-06-20 11:37:08.252890: W tensorflow/stream_executor/platform/default/dso_loader.cc:64] Could not load dynamic library 'libcudnn.so.8'; dlerror: libcudnn.so.8: cannot open shared object file: No such file or directory\n",
      "2022-06-20 11:37:08.252903: W tensorflow/core/common_runtime/gpu/gpu_device.cc:1850] Cannot dlopen some GPU libraries. Please make sure the missing libraries mentioned above are installed properly if you would like to use GPU. Follow the guide at https://www.tensorflow.org/install/gpu for how to download and setup the required libraries for your platform.\n",
      "Skipping registering GPU devices...\n",
      "2022-06-20 11:37:08.253234: I tensorflow/core/platform/cpu_feature_guard.cc:193] This TensorFlow binary is optimized with oneAPI Deep Neural Network Library (oneDNN) to use the following CPU instructions in performance-critical operations:  AVX2 FMA\n",
      "To enable them in other operations, rebuild TensorFlow with the appropriate compiler flags.\n"
     ]
    }
   ],
   "source": [
    "from transformers import BertTokenizer\n",
    "\n",
    "tokenizer = BertTokenizer.from_pretrained('bert-base-uncased')\n",
    "\n",
    "def tokenize(sentence):\n",
    "    tokens = tokenizer.encode_plus(sentence, max_length=MAX_SEQ_LENGTH,\n",
    "                                   truncation=True, padding='max_length',\n",
    "                                   add_special_tokens=True, return_attention_mask=True,\n",
    "                                   return_token_type_ids=False, return_tensors='tf')\n",
    "    return tokens['input_ids'], tokens['attention_mask']\n",
    "\n",
    "# initialize two arrays for input tensors\n",
    "Xids = np.zeros((len(taxonomy), MAX_SEQ_LENGTH))\n",
    "Xmask = np.zeros((len(taxonomy), MAX_SEQ_LENGTH))\n",
    "\n",
    "for i, sentence in enumerate(taxonomy['query']):\n",
    "    Xids[i, :], Xmask[i, :] = tokenize(sentence)"
   ]
  },
  {
   "cell_type": "code",
   "execution_count": 7,
   "metadata": {
    "execution": {
     "iopub.execute_input": "2022-06-20T11:37:08.571464Z",
     "iopub.status.busy": "2022-06-20T11:37:08.570606Z",
     "iopub.status.idle": "2022-06-20T11:37:08.633035Z",
     "shell.execute_reply": "2022-06-20T11:37:08.632369Z",
     "shell.execute_reply.started": "2022-06-20T11:37:08.571438Z"
    }
   },
   "outputs": [],
   "source": [
    "import tensorflow as tf\n",
    "\n",
    "# load arrays into tensorflow dataset\n",
    "dataset = tf.data.Dataset.from_tensor_slices((Xids, Xmask, labels))\n",
    "\n",
    "# create a mapping function that we use to restructure our dataset\n",
    "def map_func(input_ids, masks, labels):\n",
    "    return {'input_ids': input_ids, 'attention_mask': masks}, labels\n",
    "\n",
    "# using map method to apply map_func to dataset\n",
    "dataset = dataset.map(map_func)\n",
    "\n",
    "# shuffle data and batch it\n",
    "dataset = dataset.shuffle(500).batch(BATCH_SIZE)"
   ]
  },
  {
   "cell_type": "code",
   "execution_count": 8,
   "metadata": {
    "execution": {
     "iopub.execute_input": "2022-06-20T11:37:08.634180Z",
     "iopub.status.busy": "2022-06-20T11:37:08.633971Z",
     "iopub.status.idle": "2022-06-20T11:37:08.684187Z",
     "shell.execute_reply": "2022-06-20T11:37:08.683536Z",
     "shell.execute_reply.started": "2022-06-20T11:37:08.634152Z"
    }
   },
   "outputs": [],
   "source": [
    "# get the length of the batched dataset\n",
    "DS_LEN = len([0 for batch in dataset])\n",
    "\n",
    "train_size = int(0.7 * DS_LEN)\n",
    "val_size = int(0.1 * DS_LEN)\n",
    "test_size = int(0.2 * DS_LEN)\n",
    "\n",
    "train_dataset = dataset.take(train_size)\n",
    "test_dataset = dataset.skip(train_size)\n",
    "val_dataset = test_dataset.skip(test_size)\n",
    "test_dataset = test_dataset.take(test_size)\n",
    "\n",
    "del dataset  # delete dataset to free up disk-space"
   ]
  },
  {
   "cell_type": "code",
   "execution_count": 9,
   "metadata": {
    "execution": {
     "iopub.execute_input": "2022-06-20T11:37:08.686147Z",
     "iopub.status.busy": "2022-06-20T11:37:08.685880Z",
     "iopub.status.idle": "2022-06-20T11:37:08.693464Z",
     "shell.execute_reply": "2022-06-20T11:37:08.692540Z",
     "shell.execute_reply.started": "2022-06-20T11:37:08.686111Z"
    }
   },
   "outputs": [],
   "source": [
    "# Helper function for merging new history objects with older ones\n",
    "def append_history(losses, val_losses, accuracy, val_accuracy, history):\n",
    "    losses = losses + history.history[\"loss\"]\n",
    "    val_losses = val_losses + history.history[\"val_loss\"]\n",
    "    accuracy = accuracy + history.history[\"categorical_accuracy\"]\n",
    "    val_accuracy = val_accuracy + history.history[\"val_categorical_accuracy\"]\n",
    "    return losses, val_losses, accuracy, val_accuracy\n",
    "\n",
    "\n",
    "# Plotter function\n",
    "def plot_history(losses, val_losses, accuracies, val_accuracies):\n",
    "    plt.plot(losses)\n",
    "    plt.plot(val_losses)\n",
    "    plt.legend([\"train_loss\", \"val_loss\"])\n",
    "    plt.xlabel(\"Epochs\")\n",
    "    plt.ylabel(\"Loss\")\n",
    "    plt.show()\n",
    "\n",
    "    plt.plot(accuracies)\n",
    "    plt.plot(val_accuracies)\n",
    "    plt.legend([\"train_accuracy\", \"val_accuracy\"])\n",
    "    plt.xlabel(\"Epochs\")\n",
    "    plt.ylabel(\"Accuracy\")\n",
    "    plt.show()"
   ]
  },
  {
   "cell_type": "code",
   "execution_count": 10,
   "metadata": {
    "execution": {
     "iopub.execute_input": "2022-06-20T11:37:08.695009Z",
     "iopub.status.busy": "2022-06-20T11:37:08.694739Z",
     "iopub.status.idle": "2022-06-20T11:37:08.755953Z",
     "shell.execute_reply": "2022-06-20T11:37:08.755308Z",
     "shell.execute_reply.started": "2022-06-20T11:37:08.694973Z"
    }
   },
   "outputs": [],
   "source": [
    "from transformers import TFBertModel\n",
    "\n",
    "def create_model():\n",
    "    # initialize cased BERT model\n",
    "    bert = TFBertModel.from_pretrained('bert-base-uncased')\n",
    "\n",
    "    input_ids = tf.keras.layers.Input(shape=(MAX_SEQ_LENGTH,), name='input_ids', dtype='int32')\n",
    "    mask = tf.keras.layers.Input(shape=(MAX_SEQ_LENGTH,), name='attention_mask', dtype='int32')\n",
    "\n",
    "    # we consume the last_hidden_state tensor from bert (discarding pooled_outputs)\n",
    "    embeddings = bert(input_ids, attention_mask=mask)[0]\n",
    "\n",
    "    X = tf.keras.layers.LSTM(64)(embeddings)\n",
    "    X = tf.keras.layers.BatchNormalization()(X)\n",
    "    X = tf.keras.layers.Dense(64, activation='relu')(X)\n",
    "    X = tf.keras.layers.Dropout(0.1)(X)\n",
    "    y = tf.keras.layers.Dense(8, activation='softmax', name='outputs')(X)\n",
    "\n",
    "    # define input and output layers of our model\n",
    "    model = tf.keras.Model(inputs=[input_ids, mask], outputs=y)\n",
    "\n",
    "    # freeze the BERT layer - otherwise we will be training 100M+ parameters...\n",
    "    model.layers[2].trainable = False\n",
    "\n",
    "    model.summary()\n",
    "    return model"
   ]
  },
  {
   "cell_type": "code",
   "execution_count": 11,
   "metadata": {
    "execution": {
     "iopub.execute_input": "2022-06-20T11:37:08.757199Z",
     "iopub.status.busy": "2022-06-20T11:37:08.757004Z",
     "iopub.status.idle": "2022-06-20T11:37:08.763702Z",
     "shell.execute_reply": "2022-06-20T11:37:08.763165Z",
     "shell.execute_reply.started": "2022-06-20T11:37:08.757175Z"
    }
   },
   "outputs": [],
   "source": [
    "def train_full_model(full_train_dataset, val_dataset, test_dataset):\n",
    "    model = create_model()\n",
    "    \n",
    "    model.compile(\n",
    "        optimizer=\"adam\", \n",
    "        loss=\"categorical_crossentropy\",\n",
    "        metrics=[            \n",
    "            tf.keras.metrics.CategoricalAccuracy()\n",
    "        ],\n",
    "    )\n",
    "\n",
    "    early_stopping = tf.keras.callbacks.EarlyStopping(patience=4, verbose=1)\n",
    "    model_checkpoint = tf.keras.callbacks.ModelCheckpoint(\n",
    "                \"BERT_Numeric.h5\", verbose=1, save_best_only=True)\n",
    "    history = model.fit(full_train_dataset, validation_data=val_dataset, epochs=NUM_TRAIN_EPOCHS,\n",
    "        callbacks=[early_stopping, model_checkpoint])\n",
    "    \n",
    "    # Plot history\n",
    "    plot_history(\n",
    "        history.history[\"loss\"],\n",
    "        history.history[\"val_loss\"],\n",
    "        history.history[\"categorical_accuracy\"],\n",
    "        history.history[\"val_categorical_accuracy\"],\n",
    "    )\n",
    "\n",
    "    # Loading the best checkpoint\n",
    "    model = tf.keras.models.load_model(\"BERT_Numeric.h5\", custom_objects={\"TFBertModel\": TFBertModel})\n",
    "\n",
    "    print(\"-\" * 100)\n",
    "    print(\n",
    "        \"Test set evaluation: \",\n",
    "        model.evaluate(test_dataset, verbose=0, return_dict=True),\n",
    "    )\n",
    "    print(\"-\" * 100)\n",
    "\n",
    "    return model"
   ]
  },
  {
   "cell_type": "code",
   "execution_count": 12,
   "metadata": {
    "execution": {
     "iopub.execute_input": "2022-06-20T11:37:08.764756Z",
     "iopub.status.busy": "2022-06-20T11:37:08.764546Z",
     "iopub.status.idle": "2022-06-20T11:44:26.897051Z",
     "shell.execute_reply": "2022-06-20T11:44:26.895364Z",
     "shell.execute_reply.started": "2022-06-20T11:37:08.764733Z"
    }
   },
   "outputs": [
    {
     "name": "stderr",
     "output_type": "stream",
     "text": [
      "2022-06-20 11:37:09.179109: W tensorflow/core/framework/cpu_allocator_impl.cc:82] Allocation of 93763584 exceeds 10% of free system memory.\n",
      "2022-06-20 11:37:09.296346: W tensorflow/core/framework/cpu_allocator_impl.cc:82] Allocation of 93763584 exceeds 10% of free system memory.\n",
      "2022-06-20 11:37:09.308599: W tensorflow/core/framework/cpu_allocator_impl.cc:82] Allocation of 93763584 exceeds 10% of free system memory.\n",
      "2022-06-20 11:37:10.869265: W tensorflow/core/framework/cpu_allocator_impl.cc:82] Allocation of 93763584 exceeds 10% of free system memory.\n",
      "2022-06-20 11:37:10.950513: W tensorflow/core/framework/cpu_allocator_impl.cc:82] Allocation of 93763584 exceeds 10% of free system memory.\n"
     ]
    },
    {
     "name": "stdout",
     "output_type": "stream",
     "text": [
      "Model: \"model\"\n",
      "__________________________________________________________________________________________________\n",
      " Layer (type)                   Output Shape         Param #     Connected to                     \n",
      "==================================================================================================\n",
      " input_ids (InputLayer)         [(None, 128)]        0           []                               \n",
      "                                                                                                  \n",
      " attention_mask (InputLayer)    [(None, 128)]        0           []                               \n",
      "                                                                                                  \n",
      " tf_bert_model (TFBertModel)    TFBaseModelOutputWi  109482240   ['input_ids[0][0]',              \n",
      "                                thPoolingAndCrossAt               'attention_mask[0][0]']         \n",
      "                                tentions(last_hidde                                               \n",
      "                                n_state=(None, 128,                                               \n",
      "                                 768),                                                            \n",
      "                                 pooler_output=(Non                                               \n",
      "                                e, 768),                                                          \n",
      "                                 past_key_values=No                                               \n",
      "                                ne, hidden_states=N                                               \n",
      "                                one, attentions=Non                                               \n",
      "                                e, cross_attentions                                               \n",
      "                                =None)                                                            \n",
      "                                                                                                  \n",
      " lstm (LSTM)                    (None, 64)           213248      ['tf_bert_model[0][0]']          \n",
      "                                                                                                  \n",
      " batch_normalization (BatchNorm  (None, 64)          256         ['lstm[0][0]']                   \n",
      " alization)                                                                                       \n",
      "                                                                                                  \n",
      " dense (Dense)                  (None, 64)           4160        ['batch_normalization[0][0]']    \n",
      "                                                                                                  \n",
      " dropout_37 (Dropout)           (None, 64)           0           ['dense[0][0]']                  \n",
      "                                                                                                  \n",
      " outputs (Dense)                (None, 8)            520         ['dropout_37[0][0]']             \n",
      "                                                                                                  \n",
      "==================================================================================================\n",
      "Total params: 109,700,424\n",
      "Trainable params: 218,056\n",
      "Non-trainable params: 109,482,368\n",
      "__________________________________________________________________________________________________\n",
      "Epoch 1/5\n",
      "15/15 [==============================] - ETA: 0s - loss: 1.6729 - categorical_accuracy: 0.4146\n",
      "Epoch 1: val_loss improved from inf to 1.70647, saving model to BERT_Numeric.h5\n",
      "15/15 [==============================] - 101s 6s/step - loss: 1.6729 - categorical_accuracy: 0.4146 - val_loss: 1.7065 - val_categorical_accuracy: 0.5385\n",
      "Epoch 2/5\n",
      "15/15 [==============================] - ETA: 0s - loss: 0.8401 - categorical_accuracy: 0.7604\n",
      "Epoch 2: val_loss improved from 1.70647 to 1.50294, saving model to BERT_Numeric.h5\n",
      "15/15 [==============================] - 76s 5s/step - loss: 0.8401 - categorical_accuracy: 0.7604 - val_loss: 1.5029 - val_categorical_accuracy: 0.7564\n",
      "Epoch 3/5\n",
      "15/15 [==============================] - ETA: 0s - loss: 0.6596 - categorical_accuracy: 0.7979\n",
      "Epoch 3: val_loss improved from 1.50294 to 1.26251, saving model to BERT_Numeric.h5\n",
      "15/15 [==============================] - 75s 5s/step - loss: 0.6596 - categorical_accuracy: 0.7979 - val_loss: 1.2625 - val_categorical_accuracy: 0.8974\n",
      "Epoch 4/5\n",
      "15/15 [==============================] - ETA: 0s - loss: 0.4853 - categorical_accuracy: 0.8625\n",
      "Epoch 4: val_loss improved from 1.26251 to 1.18991, saving model to BERT_Numeric.h5\n",
      "15/15 [==============================] - 72s 5s/step - loss: 0.4853 - categorical_accuracy: 0.8625 - val_loss: 1.1899 - val_categorical_accuracy: 0.7308\n",
      "Epoch 5/5\n",
      "15/15 [==============================] - ETA: 0s - loss: 0.4289 - categorical_accuracy: 0.8562\n",
      "Epoch 5: val_loss improved from 1.18991 to 1.04479, saving model to BERT_Numeric.h5\n",
      "15/15 [==============================] - 72s 5s/step - loss: 0.4289 - categorical_accuracy: 0.8562 - val_loss: 1.0448 - val_categorical_accuracy: 0.8718\n"
     ]
    },
    {
     "data": {
      "image/png": "[encoded data removed]",
      "text/plain": [
       "<Figure size 432x288 with 1 Axes>"
      ]
     },
     "metadata": {
      "needs_background": "light"
     },
     "output_type": "display_data"
    },
    {
     "data": {
      "image/png": "[encoded data removed]",
      "text/plain": [
       "<Figure size 432x288 with 1 Axes>"
      ]
     },
     "metadata": {
      "needs_background": "light"
     },
     "output_type": "display_data"
    },
    {
     "name": "stdout",
     "output_type": "stream",
     "text": [
      "WARNING:tensorflow:Error in loading the saved optimizer state. As a result, your model is starting with a freshly initialized optimizer.\n",
      "----------------------------------------------------------------------------------------------------\n",
      "Test set evaluation:  {'loss': 1.0215195417404175, 'categorical_accuracy': 0.875}\n",
      "----------------------------------------------------------------------------------------------------\n"
     ]
    }
   ],
   "source": [
    "# Training the model\n",
    "full_dataset_model = train_full_model(train_dataset, val_dataset, test_dataset)"
   ]
  }
 ],
 "metadata": {
  "kernelspec": {
   "display_name": "Python 3 (ipykernel)",
   "language": "python",
   "name": "python3"
  },
  "language_info": {
   "codemirror_mode": {
    "name": "ipython",
    "version": 3
   },
   "file_extension": ".py",
   "mimetype": "text/x-python",
   "name": "python",
   "nbconvert_exporter": "python",
   "pygments_lexer": "ipython3",
   "version": "3.9.10"
  },
  "vscode": {
   "interpreter": {
    "hash": "fa9018ae899f1e6633f598504a35f2a7a60fdaff40966fa232a77565ef07d3c0"
   }
  }
 },
 "nbformat": 4,
 "nbformat_minor": 4
}
