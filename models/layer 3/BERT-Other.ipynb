{
 "cells": [
  {
   "cell_type": "code",
   "execution_count": 1,
   "metadata": {
    "execution": {
     "iopub.execute_input": "2022-06-17T07:26:36.922751Z",
     "iopub.status.busy": "2022-06-17T07:26:36.922537Z",
     "iopub.status.idle": "2022-06-17T07:26:43.219280Z",
     "shell.execute_reply": "2022-06-17T07:26:43.218304Z",
     "shell.execute_reply.started": "2022-06-17T07:26:36.922725Z"
    }
   },
   "outputs": [
    {
     "name": "stderr",
     "output_type": "stream",
     "text": [
      "c:\\Users\\jasmi\\AppData\\Local\\Programs\\Python\\Python38\\lib\\site-packages\\tqdm\\auto.py:22: TqdmWarning: IProgress not found. Please update jupyter and ipywidgets. See https://ipywidgets.readthedocs.io/en/stable/user_install.html\n",
      "  from .autonotebook import tqdm as notebook_tqdm\n"
     ]
    }
   ],
   "source": [
    "from transformers import logging\n",
    "\n",
    "import random\n",
    "import os\n",
    "\n",
    "import tensorflow as tf\n",
    "from tensorflow import keras\n",
    "from keras.utils import np_utils\n",
    "\n",
    "import matplotlib.pyplot as plt\n",
    "import numpy as np\n",
    "import pandas as pd\n",
    "\n",
    "from sklearn.preprocessing import LabelEncoder"
   ]
  },
  {
   "cell_type": "code",
   "execution_count": 2,
   "metadata": {
    "execution": {
     "iopub.execute_input": "2022-06-17T07:26:43.222022Z",
     "iopub.status.busy": "2022-06-17T07:26:43.221070Z",
     "iopub.status.idle": "2022-06-17T07:26:43.228178Z",
     "shell.execute_reply": "2022-06-17T07:26:43.226968Z",
     "shell.execute_reply.started": "2022-06-17T07:26:43.221976Z"
    }
   },
   "outputs": [],
   "source": [
    "# setting up seed\n",
    "seed = 123\n",
    "\n",
    "os.environ['PYTHONHASHSEED']=str(seed)\n",
    "random.seed(seed)\n",
    "np.random.seed(seed)\n",
    "tf.random.set_seed(seed)\n",
    "\n",
    "logging.set_verbosity_error()"
   ]
  },
  {
   "cell_type": "code",
   "execution_count": 3,
   "metadata": {
    "execution": {
     "iopub.execute_input": "2022-06-17T07:26:43.231643Z",
     "iopub.status.busy": "2022-06-17T07:26:43.230865Z",
     "iopub.status.idle": "2022-06-17T07:26:43.236282Z",
     "shell.execute_reply": "2022-06-17T07:26:43.235384Z",
     "shell.execute_reply.started": "2022-06-17T07:26:43.231545Z"
    }
   },
   "outputs": [],
   "source": [
    "BATCH_SIZE = 32 # batch size used on the train and validation set\n",
    "NUM_TRAIN_EPOCHS = 5 # number of iterations for the model training\n",
    "MAX_SEQ_LENGTH = 128 # used to cut/pad the text into tokens"
   ]
  },
  {
   "cell_type": "code",
   "execution_count": 4,
   "metadata": {
    "execution": {
     "iopub.execute_input": "2022-06-17T07:26:43.239583Z",
     "iopub.status.busy": "2022-06-17T07:26:43.238777Z",
     "iopub.status.idle": "2022-06-17T07:26:43.271004Z",
     "shell.execute_reply": "2022-06-17T07:26:43.269753Z",
     "shell.execute_reply.started": "2022-06-17T07:26:43.239560Z"
    }
   },
   "outputs": [],
   "source": [
    "# Loading the dataset\n",
    "path = '../../datasets/'\n",
    "taxonomy = pd.read_csv(path + 'other.csv')\n",
    "queries, labels = taxonomy['query'].to_numpy(), taxonomy['label'].to_numpy()"
   ]
  },
  {
   "cell_type": "code",
   "execution_count": 5,
   "metadata": {
    "execution": {
     "iopub.execute_input": "2022-06-17T07:26:43.273106Z",
     "iopub.status.busy": "2022-06-17T07:26:43.272662Z",
     "iopub.status.idle": "2022-06-17T07:26:43.283734Z",
     "shell.execute_reply": "2022-06-17T07:26:43.282827Z",
     "shell.execute_reply.started": "2022-06-17T07:26:43.273059Z"
    }
   },
   "outputs": [],
   "source": [
    "# Encoding the labels to categorical values\n",
    "taxonomy['label'] = pd.Categorical(taxonomy['label'])\n",
    "labels = taxonomy['label'].cat.codes\n",
    "\n",
    "labels = np_utils.to_categorical(labels)"
   ]
  },
  {
   "cell_type": "code",
   "execution_count": 6,
   "metadata": {
    "execution": {
     "iopub.execute_input": "2022-06-17T07:26:43.285251Z",
     "iopub.status.busy": "2022-06-17T07:26:43.284973Z",
     "iopub.status.idle": "2022-06-17T07:26:46.513028Z",
     "shell.execute_reply": "2022-06-17T07:26:46.512213Z",
     "shell.execute_reply.started": "2022-06-17T07:26:43.285221Z"
    }
   },
   "outputs": [],
   "source": [
    "from transformers import BertTokenizer\n",
    "\n",
    "tokenizer = BertTokenizer.from_pretrained('bert-base-uncased')\n",
    "\n",
    "def tokenize(sentence):\n",
    "    tokens = tokenizer.encode_plus(sentence, max_length=MAX_SEQ_LENGTH,\n",
    "                                   truncation=True, padding='max_length',\n",
    "                                   add_special_tokens=True, return_attention_mask=True,\n",
    "                                   return_token_type_ids=False, return_tensors='tf')\n",
    "    return tokens['input_ids'], tokens['attention_mask']\n",
    "\n",
    "# initialize two arrays for input tensors\n",
    "Xids = np.zeros((len(taxonomy), MAX_SEQ_LENGTH))\n",
    "Xmask = np.zeros((len(taxonomy), MAX_SEQ_LENGTH))\n",
    "\n",
    "for i, sentence in enumerate(taxonomy['query']):\n",
    "    Xids[i, :], Xmask[i, :] = tokenize(sentence)"
   ]
  },
  {
   "cell_type": "code",
   "execution_count": 8,
   "metadata": {
    "execution": {
     "iopub.execute_input": "2022-06-17T07:26:46.522640Z",
     "iopub.status.busy": "2022-06-17T07:26:46.522351Z",
     "iopub.status.idle": "2022-06-17T07:26:46.594610Z",
     "shell.execute_reply": "2022-06-17T07:26:46.593766Z",
     "shell.execute_reply.started": "2022-06-17T07:26:46.522605Z"
    }
   },
   "outputs": [],
   "source": [
    "import tensorflow as tf\n",
    "\n",
    "# load arrays into tensorflow dataset\n",
    "dataset = tf.data.Dataset.from_tensor_slices((Xids, Xmask, labels))\n",
    "\n",
    "# create a mapping function that we use to restructure our dataset\n",
    "def map_func(input_ids, masks, labels):\n",
    "    return {'input_ids': input_ids, 'attention_mask': masks}, labels\n",
    "\n",
    "# using map method to apply map_func to dataset\n",
    "dataset = dataset.map(map_func)\n",
    "\n",
    "# shuffle data and batch it\n",
    "dataset = dataset.shuffle(500).batch(BATCH_SIZE)"
   ]
  },
  {
   "cell_type": "code",
   "execution_count": 9,
   "metadata": {
    "execution": {
     "iopub.execute_input": "2022-06-17T07:26:46.597039Z",
     "iopub.status.busy": "2022-06-17T07:26:46.596824Z",
     "iopub.status.idle": "2022-06-17T07:26:46.793838Z",
     "shell.execute_reply": "2022-06-17T07:26:46.793143Z",
     "shell.execute_reply.started": "2022-06-17T07:26:46.597039Z"
    }
   },
   "outputs": [],
   "source": [
    "# get the length of the batched dataset\n",
    "DS_LEN = len([0 for batch in dataset])\n",
    "\n",
    "train_size = int(0.7 * DS_LEN)\n",
    "val_size = int(0.1 * DS_LEN)\n",
    "test_size = int(0.2 * DS_LEN)\n",
    "\n",
    "train_dataset = dataset.take(train_size)\n",
    "test_dataset = dataset.skip(train_size)\n",
    "val_dataset = test_dataset.skip(test_size)\n",
    "test_dataset = test_dataset.take(test_size)\n",
    "\n",
    "del dataset  # delete dataset to free up disk-space"
   ]
  },
  {
   "cell_type": "code",
   "execution_count": 10,
   "metadata": {
    "execution": {
     "iopub.execute_input": "2022-06-17T07:26:46.797983Z",
     "iopub.status.busy": "2022-06-17T07:26:46.797667Z",
     "iopub.status.idle": "2022-06-17T07:26:46.806342Z",
     "shell.execute_reply": "2022-06-17T07:26:46.805433Z",
     "shell.execute_reply.started": "2022-06-17T07:26:46.797944Z"
    }
   },
   "outputs": [],
   "source": [
    "# Helper function for merging new history objects with older ones\n",
    "def append_history(losses, val_losses, accuracy, val_accuracy, history):\n",
    "    losses = losses + history.history[\"loss\"]\n",
    "    val_losses = val_losses + history.history[\"val_loss\"]\n",
    "    accuracy = accuracy + history.history[\"categorical_accuracy\"]\n",
    "    val_accuracy = val_accuracy + history.history[\"val_categorical_accuracy\"]\n",
    "    return losses, val_losses, accuracy, val_accuracy\n",
    "\n",
    "\n",
    "# Plotter function\n",
    "def plot_history(losses, val_losses, accuracies, val_accuracies):\n",
    "    plt.plot(losses)\n",
    "    plt.plot(val_losses)\n",
    "    plt.legend([\"train_loss\", \"val_loss\"])\n",
    "    plt.xlabel(\"Epochs\")\n",
    "    plt.ylabel(\"Loss\")\n",
    "    plt.show()\n",
    "\n",
    "    plt.plot(accuracies)\n",
    "    plt.plot(val_accuracies)\n",
    "    plt.legend([\"train_accuracy\", \"val_accuracy\"])\n",
    "    plt.xlabel(\"Epochs\")\n",
    "    plt.ylabel(\"Accuracy\")\n",
    "    plt.show()"
   ]
  },
  {
   "cell_type": "code",
   "execution_count": 11,
   "metadata": {
    "execution": {
     "iopub.execute_input": "2022-06-17T07:26:46.813884Z",
     "iopub.status.busy": "2022-06-17T07:26:46.813616Z",
     "iopub.status.idle": "2022-06-17T07:26:46.934063Z",
     "shell.execute_reply": "2022-06-17T07:26:46.933285Z",
     "shell.execute_reply.started": "2022-06-17T07:26:46.813857Z"
    }
   },
   "outputs": [],
   "source": [
    "from transformers import TFBertModel\n",
    "\n",
    "def create_model():\n",
    "    # initialize cased BERT model\n",
    "    bert = TFBertModel.from_pretrained('bert-base-uncased')\n",
    "\n",
    "    input_ids = tf.keras.layers.Input(shape=(MAX_SEQ_LENGTH,), name='input_ids', dtype='int32')\n",
    "    mask = tf.keras.layers.Input(shape=(MAX_SEQ_LENGTH,), name='attention_mask', dtype='int32')\n",
    "\n",
    "    # we consume the last_hidden_state tensor from bert (discarding pooled_outputs)\n",
    "    embeddings = bert(input_ids, attention_mask=mask)[0]\n",
    "\n",
    "    X = tf.keras.layers.LSTM(64)(embeddings)\n",
    "    X = tf.keras.layers.BatchNormalization()(X)\n",
    "    X = tf.keras.layers.Dense(64, activation='relu')(X)\n",
    "    X = tf.keras.layers.Dropout(0.1)(X)\n",
    "    y = tf.keras.layers.Dense(6, activation='softmax', name='outputs')(X)\n",
    "\n",
    "    # define input and output layers of our model\n",
    "    model = tf.keras.Model(inputs=[input_ids, mask], outputs=y)\n",
    "\n",
    "    # freeze the BERT layer - otherwise we will be training 100M+ parameters...\n",
    "    model.layers[2].trainable = False\n",
    "\n",
    "    model.summary()\n",
    "    return model"
   ]
  },
  {
   "cell_type": "code",
   "execution_count": 12,
   "metadata": {
    "execution": {
     "iopub.execute_input": "2022-06-17T07:26:46.940989Z",
     "iopub.status.busy": "2022-06-17T07:26:46.940727Z",
     "iopub.status.idle": "2022-06-17T07:26:46.950236Z",
     "shell.execute_reply": "2022-06-17T07:26:46.949395Z",
     "shell.execute_reply.started": "2022-06-17T07:26:46.940961Z"
    }
   },
   "outputs": [],
   "source": [
    "def train_full_model(full_train_dataset, val_dataset, test_dataset):\n",
    "    model = create_model()\n",
    "    \n",
    "    model.compile(\n",
    "        optimizer=\"adam\", \n",
    "        loss=\"categorical_crossentropy\",\n",
    "        metrics=[            \n",
    "            tf.keras.metrics.CategoricalAccuracy()\n",
    "        ],\n",
    "    )\n",
    "\n",
    "    early_stopping = tf.keras.callbacks.EarlyStopping(patience=4, verbose=1)\n",
    "    model_checkpoint = tf.keras.callbacks.ModelCheckpoint(\n",
    "                \"BERT_Other.h5\", verbose=1, save_best_only=True)\n",
    "    history = model.fit(full_train_dataset, validation_data=val_dataset, epochs=NUM_TRAIN_EPOCHS,\n",
    "        callbacks=[early_stopping, model_checkpoint])\n",
    "    \n",
    "    # Plot history\n",
    "    plot_history(\n",
    "        history.history[\"loss\"],\n",
    "        history.history[\"val_loss\"],\n",
    "        history.history[\"categorical_accuracy\"],\n",
    "        history.history[\"val_categorical_accuracy\"],\n",
    "    )\n",
    "\n",
    "    # Loading the best checkpoint\n",
    "    model = tf.keras.models.load_model(\"BERT_Other.h5\", custom_objects={\"TFBertModel\": TFBertModel})\n",
    "\n",
    "    print(\"-\" * 100)\n",
    "    print(\n",
    "        \"Test set evaluation: \",\n",
    "        model.evaluate(test_dataset, verbose=0, return_dict=True),\n",
    "    )\n",
    "    print(\"-\" * 100)\n",
    "\n",
    "    return model"
   ]
  },
  {
   "cell_type": "code",
   "execution_count": 13,
   "metadata": {
    "execution": {
     "iopub.execute_input": "2022-06-17T07:26:46.953712Z",
     "iopub.status.busy": "2022-06-17T07:26:46.953533Z",
     "iopub.status.idle": "2022-06-17T08:22:08.243844Z",
     "shell.execute_reply": "2022-06-17T08:22:08.242994Z",
     "shell.execute_reply.started": "2022-06-17T07:26:46.953687Z"
    }
   },
   "outputs": [
    {
     "name": "stdout",
     "output_type": "stream",
     "text": [
      "Model: \"model\"\n",
      "__________________________________________________________________________________________________\n",
      " Layer (type)                   Output Shape         Param #     Connected to                     \n",
      "==================================================================================================\n",
      " input_ids (InputLayer)         [(None, 128)]        0           []                               \n",
      "                                                                                                  \n",
      " attention_mask (InputLayer)    [(None, 128)]        0           []                               \n",
      "                                                                                                  \n",
      " tf_bert_model (TFBertModel)    TFBaseModelOutputWi  109482240   ['input_ids[0][0]',              \n",
      "                                thPoolingAndCrossAt               'attention_mask[0][0]']         \n",
      "                                tentions(last_hidde                                               \n",
      "                                n_state=(None, 128,                                               \n",
      "                                 768),                                                            \n",
      "                                 pooler_output=(Non                                               \n",
      "                                e, 768),                                                          \n",
      "                                 past_key_values=No                                               \n",
      "                                ne, hidden_states=N                                               \n",
      "                                one, attentions=Non                                               \n",
      "                                e, cross_attentions                                               \n",
      "                                =None)                                                            \n",
      "                                                                                                  \n",
      " lstm (LSTM)                    (None, 64)           213248      ['tf_bert_model[0][0]']          \n",
      "                                                                                                  \n",
      " batch_normalization (BatchNorm  (None, 64)          256         ['lstm[0][0]']                   \n",
      " alization)                                                                                       \n",
      "                                                                                                  \n",
      " dense (Dense)                  (None, 64)           4160        ['batch_normalization[0][0]']    \n",
      "                                                                                                  \n",
      " dropout_37 (Dropout)           (None, 64)           0           ['dense[0][0]']                  \n",
      "                                                                                                  \n",
      " outputs (Dense)                (None, 6)            390         ['dropout_37[0][0]']             \n",
      "                                                                                                  \n",
      "==================================================================================================\n",
      "Total params: 109,700,294\n",
      "Trainable params: 217,926\n",
      "Non-trainable params: 109,482,368\n",
      "__________________________________________________________________________________________________\n",
      "Epoch 1/5\n",
      "11/11 [==============================] - ETA: 0s - loss: 1.7421 - categorical_accuracy: 0.3324\n",
      "Epoch 1: val_loss improved from inf to 1.45201, saving model to BERT_Other.h5\n",
      "11/11 [==============================] - 109s 9s/step - loss: 1.7421 - categorical_accuracy: 0.3324 - val_loss: 1.4520 - val_categorical_accuracy: 0.7179\n",
      "Epoch 2/5\n",
      "11/11 [==============================] - ETA: 0s - loss: 0.6692 - categorical_accuracy: 0.7983\n",
      "Epoch 2: val_loss improved from 1.45201 to 1.23301, saving model to BERT_Other.h5\n",
      "11/11 [==============================] - 94s 9s/step - loss: 0.6692 - categorical_accuracy: 0.7983 - val_loss: 1.2330 - val_categorical_accuracy: 0.8974\n",
      "Epoch 3/5\n",
      "11/11 [==============================] - ETA: 0s - loss: 0.3781 - categorical_accuracy: 0.9233\n",
      "Epoch 3: val_loss improved from 1.23301 to 0.97862, saving model to BERT_Other.h5\n",
      "11/11 [==============================] - 86s 8s/step - loss: 0.3781 - categorical_accuracy: 0.9233 - val_loss: 0.9786 - val_categorical_accuracy: 0.9231\n",
      "Epoch 4/5\n",
      "11/11 [==============================] - ETA: 0s - loss: 0.2643 - categorical_accuracy: 0.9545\n",
      "Epoch 4: val_loss improved from 0.97862 to 0.74796, saving model to BERT_Other.h5\n",
      "11/11 [==============================] - 94s 9s/step - loss: 0.2643 - categorical_accuracy: 0.9545 - val_loss: 0.7480 - val_categorical_accuracy: 0.9744\n",
      "Epoch 5/5\n",
      "11/11 [==============================] - ETA: 0s - loss: 0.1999 - categorical_accuracy: 0.9688\n",
      "Epoch 5: val_loss improved from 0.74796 to 0.69669, saving model to BERT_Other.h5\n",
      "11/11 [==============================] - 121s 11s/step - loss: 0.1999 - categorical_accuracy: 0.9688 - val_loss: 0.6967 - val_categorical_accuracy: 0.9231\n"
     ]
    },
    {
     "data": {
      "image/png": "[encoded data removed]",
      "text/plain": [
       "<Figure size 432x288 with 1 Axes>"
      ]
     },
     "metadata": {
      "needs_background": "light"
     },
     "output_type": "display_data"
    },
    {
     "data": {
      "image/png": "[encoded data removed]",
      "text/plain": [
       "<Figure size 432x288 with 1 Axes>"
      ]
     },
     "metadata": {
      "needs_background": "light"
     },
     "output_type": "display_data"
    },
    {
     "name": "stdout",
     "output_type": "stream",
     "text": [
      "WARNING:tensorflow:Error in loading the saved optimizer state. As a result, your model is starting with a freshly initialized optimizer.\n",
      "----------------------------------------------------------------------------------------------------\n",
      "Test set evaluation:  {'loss': 0.6765794157981873, 'categorical_accuracy': 0.96875}\n",
      "----------------------------------------------------------------------------------------------------\n"
     ]
    }
   ],
   "source": [
    "# Training the model\n",
    "full_dataset_model = train_full_model(train_dataset, val_dataset, test_dataset)"
   ]
  }
 ],
 "metadata": {
  "kernelspec": {
   "display_name": "Python 3.8.4 64-bit",
   "language": "python",
   "name": "python3"
  },
  "language_info": {
   "codemirror_mode": {
    "name": "ipython",
    "version": 3
   },
   "file_extension": ".py",
   "mimetype": "text/x-python",
   "name": "python",
   "nbconvert_exporter": "python",
   "pygments_lexer": "ipython3",
   "version": "3.8.4"
  },
  "vscode": {
   "interpreter": {
    "hash": "fa9018ae899f1e6633f598504a35f2a7a60fdaff40966fa232a77565ef07d3c0"
   }
  }
 },
 "nbformat": 4,
 "nbformat_minor": 4
}
